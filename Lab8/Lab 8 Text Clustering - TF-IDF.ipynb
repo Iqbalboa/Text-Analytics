{
 "cells": [
  {
   "cell_type": "code",
   "execution_count": 1,
   "id": "e16b64ea",
   "metadata": {},
   "outputs": [],
   "source": [
    "import numpy as np\n",
    "from sklearn.cluster import KMeans\n",
    "from sklearn.feature_extraction.text import TfidfVectorizer\n",
    "from tabulate import tabulate\n",
    "from collections import Counter"
   ]
  },
  {
   "cell_type": "code",
   "execution_count": 2,
   "id": "0fcfdd84",
   "metadata": {},
   "outputs": [],
   "source": [
    "# Sample dataset\n",
    "dataset = [\"I love playing football on the weekends\",\n",
    "           \"I enjoy hiking and camping in the mountains\",\n",
    "           \"I like to read books and watch movies\",\n",
    "           \"I prefer playing video games over sports\",\n",
    "           \"I love listening to music and going to concerts\"]"
   ]
  },
  {
   "cell_type": "code",
   "execution_count": 3,
   "id": "40558ea5",
   "metadata": {},
   "outputs": [],
   "source": [
    "# Vectorize the dataset\n",
    "vectorizer = TfidfVectorizer()\n",
    "X = vectorizer.fit_transform(dataset)"
   ]
  },
  {
   "cell_type": "code",
   "execution_count": 4,
   "id": "b1f98260",
   "metadata": {},
   "outputs": [],
   "source": [
    "# Define the number of clusters\n",
    "k = 2"
   ]
  },
  {
   "cell_type": "code",
   "execution_count": 5,
   "id": "51ed927d",
   "metadata": {},
   "outputs": [
    {
     "name": "stderr",
     "output_type": "stream",
     "text": [
      "C:\\Users\\madba\\anaconda3\\Lib\\site-packages\\sklearn\\cluster\\_kmeans.py:1412: FutureWarning: The default value of `n_init` will change from 10 to 'auto' in 1.4. Set the value of `n_init` explicitly to suppress the warning\n",
      "  super()._check_params_vs_input(X, default_n_init=10)\n"
     ]
    },
    {
     "data": {
      "text/html": [
       "<style>#sk-container-id-1 {color: black;}#sk-container-id-1 pre{padding: 0;}#sk-container-id-1 div.sk-toggleable {background-color: white;}#sk-container-id-1 label.sk-toggleable__label {cursor: pointer;display: block;width: 100%;margin-bottom: 0;padding: 0.3em;box-sizing: border-box;text-align: center;}#sk-container-id-1 label.sk-toggleable__label-arrow:before {content: \"▸\";float: left;margin-right: 0.25em;color: #696969;}#sk-container-id-1 label.sk-toggleable__label-arrow:hover:before {color: black;}#sk-container-id-1 div.sk-estimator:hover label.sk-toggleable__label-arrow:before {color: black;}#sk-container-id-1 div.sk-toggleable__content {max-height: 0;max-width: 0;overflow: hidden;text-align: left;background-color: #f0f8ff;}#sk-container-id-1 div.sk-toggleable__content pre {margin: 0.2em;color: black;border-radius: 0.25em;background-color: #f0f8ff;}#sk-container-id-1 input.sk-toggleable__control:checked~div.sk-toggleable__content {max-height: 200px;max-width: 100%;overflow: auto;}#sk-container-id-1 input.sk-toggleable__control:checked~label.sk-toggleable__label-arrow:before {content: \"▾\";}#sk-container-id-1 div.sk-estimator input.sk-toggleable__control:checked~label.sk-toggleable__label {background-color: #d4ebff;}#sk-container-id-1 div.sk-label input.sk-toggleable__control:checked~label.sk-toggleable__label {background-color: #d4ebff;}#sk-container-id-1 input.sk-hidden--visually {border: 0;clip: rect(1px 1px 1px 1px);clip: rect(1px, 1px, 1px, 1px);height: 1px;margin: -1px;overflow: hidden;padding: 0;position: absolute;width: 1px;}#sk-container-id-1 div.sk-estimator {font-family: monospace;background-color: #f0f8ff;border: 1px dotted black;border-radius: 0.25em;box-sizing: border-box;margin-bottom: 0.5em;}#sk-container-id-1 div.sk-estimator:hover {background-color: #d4ebff;}#sk-container-id-1 div.sk-parallel-item::after {content: \"\";width: 100%;border-bottom: 1px solid gray;flex-grow: 1;}#sk-container-id-1 div.sk-label:hover label.sk-toggleable__label {background-color: #d4ebff;}#sk-container-id-1 div.sk-serial::before {content: \"\";position: absolute;border-left: 1px solid gray;box-sizing: border-box;top: 0;bottom: 0;left: 50%;z-index: 0;}#sk-container-id-1 div.sk-serial {display: flex;flex-direction: column;align-items: center;background-color: white;padding-right: 0.2em;padding-left: 0.2em;position: relative;}#sk-container-id-1 div.sk-item {position: relative;z-index: 1;}#sk-container-id-1 div.sk-parallel {display: flex;align-items: stretch;justify-content: center;background-color: white;position: relative;}#sk-container-id-1 div.sk-item::before, #sk-container-id-1 div.sk-parallel-item::before {content: \"\";position: absolute;border-left: 1px solid gray;box-sizing: border-box;top: 0;bottom: 0;left: 50%;z-index: -1;}#sk-container-id-1 div.sk-parallel-item {display: flex;flex-direction: column;z-index: 1;position: relative;background-color: white;}#sk-container-id-1 div.sk-parallel-item:first-child::after {align-self: flex-end;width: 50%;}#sk-container-id-1 div.sk-parallel-item:last-child::after {align-self: flex-start;width: 50%;}#sk-container-id-1 div.sk-parallel-item:only-child::after {width: 0;}#sk-container-id-1 div.sk-dashed-wrapped {border: 1px dashed gray;margin: 0 0.4em 0.5em 0.4em;box-sizing: border-box;padding-bottom: 0.4em;background-color: white;}#sk-container-id-1 div.sk-label label {font-family: monospace;font-weight: bold;display: inline-block;line-height: 1.2em;}#sk-container-id-1 div.sk-label-container {text-align: center;}#sk-container-id-1 div.sk-container {/* jupyter's `normalize.less` sets `[hidden] { display: none; }` but bootstrap.min.css set `[hidden] { display: none !important; }` so we also need the `!important` here to be able to override the default hidden behavior on the sphinx rendered scikit-learn.org. See: https://github.com/scikit-learn/scikit-learn/issues/21755 */display: inline-block !important;position: relative;}#sk-container-id-1 div.sk-text-repr-fallback {display: none;}</style><div id=\"sk-container-id-1\" class=\"sk-top-container\"><div class=\"sk-text-repr-fallback\"><pre>KMeans(n_clusters=2)</pre><b>In a Jupyter environment, please rerun this cell to show the HTML representation or trust the notebook. <br />On GitHub, the HTML representation is unable to render, please try loading this page with nbviewer.org.</b></div><div class=\"sk-container\" hidden><div class=\"sk-item\"><div class=\"sk-estimator sk-toggleable\"><input class=\"sk-toggleable__control sk-hidden--visually\" id=\"sk-estimator-id-1\" type=\"checkbox\" checked><label for=\"sk-estimator-id-1\" class=\"sk-toggleable__label sk-toggleable__label-arrow\">KMeans</label><div class=\"sk-toggleable__content\"><pre>KMeans(n_clusters=2)</pre></div></div></div></div></div>"
      ],
      "text/plain": [
       "KMeans(n_clusters=2)"
      ]
     },
     "execution_count": 5,
     "metadata": {},
     "output_type": "execute_result"
    }
   ],
   "source": [
    "# Create a k-means model and fit it to the data\n",
    "km = KMeans(n_clusters=k)\n",
    "km.fit(X)"
   ]
  },
  {
   "cell_type": "code",
   "execution_count": 6,
   "id": "64e0ba4e",
   "metadata": {},
   "outputs": [],
   "source": [
    "# Predict the clusters for each document\n",
    "y_pred = km.predict(X)"
   ]
  },
  {
   "cell_type": "code",
   "execution_count": 7,
   "id": "4c976b0f",
   "metadata": {},
   "outputs": [
    {
     "name": "stdout",
     "output_type": "stream",
     "text": [
      "Document                                           Predicted Cluster\n",
      "-----------------------------------------------  -------------------\n",
      "I love playing football on the weekends                            1\n",
      "I enjoy hiking and camping in the mountains                        1\n",
      "I like to read books and watch movies                              0\n",
      "I prefer playing video games over sports                           1\n",
      "I love listening to music and going to concerts                    0\n"
     ]
    }
   ],
   "source": [
    "# Display the document and its predicted cluster in a table\n",
    "table_data = [[\"Document\", \"Predicted Cluster\"]]\n",
    "table_data.extend([[doc, cluster] for doc, cluster in zip(dataset, y_pred)])\n",
    "print(tabulate(table_data, headers=\"firstrow\"))"
   ]
  },
  {
   "cell_type": "code",
   "execution_count": 8,
   "id": "d04bea1e",
   "metadata": {},
   "outputs": [
    {
     "name": "stdout",
     "output_type": "stream",
     "text": [
      "\n",
      "Top terms per cluster:\n",
      "Cluster 0:\n",
      " to\n",
      " and\n",
      " read\n",
      " watch\n",
      " movies\n",
      " like\n",
      " books\n",
      " concerts\n",
      " going\n",
      " music\n",
      "\n",
      "Cluster 1:\n",
      " playing\n",
      " the\n",
      " weekends\n",
      " on\n",
      " football\n",
      " video\n",
      " sports\n",
      " prefer\n",
      " over\n",
      " games\n",
      "\n"
     ]
    }
   ],
   "source": [
    "# Print top terms per cluster\n",
    "print(\"\\nTop terms per cluster:\")\n",
    "order_centroids = km.cluster_centers_.argsort()[:, ::-1]\n",
    "terms = vectorizer.get_feature_names_out()\n",
    "for i in range(k):\n",
    "    print(\"Cluster %d:\" % i)\n",
    "    for ind in order_centroids[i, :10]:\n",
    "        print(' %s' % terms[ind])\n",
    "    print()"
   ]
  },
  {
   "cell_type": "code",
   "execution_count": 9,
   "id": "43eb4515",
   "metadata": {},
   "outputs": [
    {
     "name": "stdout",
     "output_type": "stream",
     "text": [
      "Purity: 0.6\n"
     ]
    }
   ],
   "source": [
    "# Calculate purity\n",
    "total_samples = len(y_pred)\n",
    "cluster_label_counts = [Counter(y_pred)]\n",
    "purity = sum(max(cluster.values()) for cluster in cluster_label_counts) / total_samples\n",
    "\n",
    "print(\"Purity:\", purity)"
   ]
  },
  {
   "cell_type": "code",
   "execution_count": 10,
   "id": "97509112",
   "metadata": {},
   "outputs": [
    {
     "data": {
      "image/png": "[encoded data removed]",
      "text/plain": [
       "<Figure size 800x600 with 1 Axes>"
      ]
     },
     "metadata": {},
     "output_type": "display_data"
    }
   ],
   "source": [
    "import matplotlib.pyplot as plt\n",
    "from sklearn.decomposition import PCA\n",
    "# Reduce dimensionality using PCA for visualization\n",
    "pca = PCA(n_components=2)\n",
    "X_pca = pca.fit_transform(X.toarray())\n",
    "\n",
    "# Plot the predicted clusters\n",
    "plt.figure(figsize=(8, 6))\n",
    "colors = ['blue', 'red']\n",
    "for i in range(k):\n",
    "    plt.scatter(X_pca[y_pred == i, 0], X_pca[y_pred == i, 1], c=colors[i], label=f'Cluster {i}')\n",
    "plt.title('Predicted Clusters Visualization')\n",
    "plt.xlabel('Principal Component 1')\n",
    "plt.ylabel('Principal Component 2')\n",
    "plt.legend()\n",
    "plt.show()"
   ]
  },
  {
   "cell_type": "markdown",
   "id": "a7033a3b",
   "metadata": {},
   "source": [
    "# Vectorizer TF-idf"
   ]
  },
  {
   "cell_type": "code",
   "execution_count": 11,
   "id": "c9f4fdb9",
   "metadata": {},
   "outputs": [],
   "source": [
    "import numpy as np\n",
    "from sklearn.cluster import KMeans\n",
    "from gensim.models import Word2Vec\n",
    "from tabulate import tabulate\n",
    "from collections import Counter"
   ]
  },
  {
   "cell_type": "code",
   "execution_count": 12,
   "id": "16531b08",
   "metadata": {},
   "outputs": [],
   "source": [
    "dataset = [\"I love playing football on the weekends\",\n",
    " \"I enjoy hiking and camping in the mountains\",\n",
    " \"I like to read books and watch movies\",\n",
    " \"I prefer playing video games over sports\",\n",
    " \"I love listening to music and going to concerts\"]"
   ]
  },
  {
   "cell_type": "code",
   "execution_count": 13,
   "id": "464a8b16",
   "metadata": {},
   "outputs": [],
   "source": [
    "tokenized_dataset = [doc.split() for doc in dataset]\n",
    "word2vec_model = Word2Vec(sentences=tokenized_dataset, vector_size=100,\n",
    "window=5, min_count=1, workers=4)"
   ]
  },
  {
   "cell_type": "code",
   "execution_count": 14,
   "id": "3194314d",
   "metadata": {},
   "outputs": [],
   "source": [
    "X = np.array([np.mean([word2vec_model.wv[word] for word in doc.split() if word in\n",
    "word2vec_model.wv], axis=0) for doc in dataset])"
   ]
  },
  {
   "cell_type": "code",
   "execution_count": 15,
   "id": "323e6fa5",
   "metadata": {},
   "outputs": [
    {
     "name": "stderr",
     "output_type": "stream",
     "text": [
      "C:\\Users\\madba\\anaconda3\\Lib\\site-packages\\sklearn\\cluster\\_kmeans.py:1412: FutureWarning: The default value of `n_init` will change from 10 to 'auto' in 1.4. Set the value of `n_init` explicitly to suppress the warning\n",
      "  super()._check_params_vs_input(X, default_n_init=10)\n",
      "C:\\Users\\madba\\anaconda3\\Lib\\site-packages\\sklearn\\cluster\\_kmeans.py:1436: UserWarning: KMeans is known to have a memory leak on Windows with MKL, when there are less chunks than available threads. You can avoid it by setting the environment variable OMP_NUM_THREADS=1.\n",
      "  warnings.warn(\n"
     ]
    },
    {
     "data": {
      "text/html": [
       "<style>#sk-container-id-2 {color: black;}#sk-container-id-2 pre{padding: 0;}#sk-container-id-2 div.sk-toggleable {background-color: white;}#sk-container-id-2 label.sk-toggleable__label {cursor: pointer;display: block;width: 100%;margin-bottom: 0;padding: 0.3em;box-sizing: border-box;text-align: center;}#sk-container-id-2 label.sk-toggleable__label-arrow:before {content: \"▸\";float: left;margin-right: 0.25em;color: #696969;}#sk-container-id-2 label.sk-toggleable__label-arrow:hover:before {color: black;}#sk-container-id-2 div.sk-estimator:hover label.sk-toggleable__label-arrow:before {color: black;}#sk-container-id-2 div.sk-toggleable__content {max-height: 0;max-width: 0;overflow: hidden;text-align: left;background-color: #f0f8ff;}#sk-container-id-2 div.sk-toggleable__content pre {margin: 0.2em;color: black;border-radius: 0.25em;background-color: #f0f8ff;}#sk-container-id-2 input.sk-toggleable__control:checked~div.sk-toggleable__content {max-height: 200px;max-width: 100%;overflow: auto;}#sk-container-id-2 input.sk-toggleable__control:checked~label.sk-toggleable__label-arrow:before {content: \"▾\";}#sk-container-id-2 div.sk-estimator input.sk-toggleable__control:checked~label.sk-toggleable__label {background-color: #d4ebff;}#sk-container-id-2 div.sk-label input.sk-toggleable__control:checked~label.sk-toggleable__label {background-color: #d4ebff;}#sk-container-id-2 input.sk-hidden--visually {border: 0;clip: rect(1px 1px 1px 1px);clip: rect(1px, 1px, 1px, 1px);height: 1px;margin: -1px;overflow: hidden;padding: 0;position: absolute;width: 1px;}#sk-container-id-2 div.sk-estimator {font-family: monospace;background-color: #f0f8ff;border: 1px dotted black;border-radius: 0.25em;box-sizing: border-box;margin-bottom: 0.5em;}#sk-container-id-2 div.sk-estimator:hover {background-color: #d4ebff;}#sk-container-id-2 div.sk-parallel-item::after {content: \"\";width: 100%;border-bottom: 1px solid gray;flex-grow: 1;}#sk-container-id-2 div.sk-label:hover label.sk-toggleable__label {background-color: #d4ebff;}#sk-container-id-2 div.sk-serial::before {content: \"\";position: absolute;border-left: 1px solid gray;box-sizing: border-box;top: 0;bottom: 0;left: 50%;z-index: 0;}#sk-container-id-2 div.sk-serial {display: flex;flex-direction: column;align-items: center;background-color: white;padding-right: 0.2em;padding-left: 0.2em;position: relative;}#sk-container-id-2 div.sk-item {position: relative;z-index: 1;}#sk-container-id-2 div.sk-parallel {display: flex;align-items: stretch;justify-content: center;background-color: white;position: relative;}#sk-container-id-2 div.sk-item::before, #sk-container-id-2 div.sk-parallel-item::before {content: \"\";position: absolute;border-left: 1px solid gray;box-sizing: border-box;top: 0;bottom: 0;left: 50%;z-index: -1;}#sk-container-id-2 div.sk-parallel-item {display: flex;flex-direction: column;z-index: 1;position: relative;background-color: white;}#sk-container-id-2 div.sk-parallel-item:first-child::after {align-self: flex-end;width: 50%;}#sk-container-id-2 div.sk-parallel-item:last-child::after {align-self: flex-start;width: 50%;}#sk-container-id-2 div.sk-parallel-item:only-child::after {width: 0;}#sk-container-id-2 div.sk-dashed-wrapped {border: 1px dashed gray;margin: 0 0.4em 0.5em 0.4em;box-sizing: border-box;padding-bottom: 0.4em;background-color: white;}#sk-container-id-2 div.sk-label label {font-family: monospace;font-weight: bold;display: inline-block;line-height: 1.2em;}#sk-container-id-2 div.sk-label-container {text-align: center;}#sk-container-id-2 div.sk-container {/* jupyter's `normalize.less` sets `[hidden] { display: none; }` but bootstrap.min.css set `[hidden] { display: none !important; }` so we also need the `!important` here to be able to override the default hidden behavior on the sphinx rendered scikit-learn.org. See: https://github.com/scikit-learn/scikit-learn/issues/21755 */display: inline-block !important;position: relative;}#sk-container-id-2 div.sk-text-repr-fallback {display: none;}</style><div id=\"sk-container-id-2\" class=\"sk-top-container\"><div class=\"sk-text-repr-fallback\"><pre>KMeans(n_clusters=2)</pre><b>In a Jupyter environment, please rerun this cell to show the HTML representation or trust the notebook. <br />On GitHub, the HTML representation is unable to render, please try loading this page with nbviewer.org.</b></div><div class=\"sk-container\" hidden><div class=\"sk-item\"><div class=\"sk-estimator sk-toggleable\"><input class=\"sk-toggleable__control sk-hidden--visually\" id=\"sk-estimator-id-2\" type=\"checkbox\" checked><label for=\"sk-estimator-id-2\" class=\"sk-toggleable__label sk-toggleable__label-arrow\">KMeans</label><div class=\"sk-toggleable__content\"><pre>KMeans(n_clusters=2)</pre></div></div></div></div></div>"
      ],
      "text/plain": [
       "KMeans(n_clusters=2)"
      ]
     },
     "execution_count": 15,
     "metadata": {},
     "output_type": "execute_result"
    }
   ],
   "source": [
    "k = 2 #Define the number of clusters\n",
    "km = KMeans(n_clusters=k)\n",
    "km.fit(X)"
   ]
  },
  {
   "cell_type": "code",
   "execution_count": 16,
   "id": "1cfa29a6",
   "metadata": {},
   "outputs": [],
   "source": [
    "# Predict the clusters for each document\n",
    "y_pred = km.predict(X)"
   ]
  },
  {
   "cell_type": "code",
   "execution_count": 17,
   "id": "79641118",
   "metadata": {},
   "outputs": [
    {
     "name": "stdout",
     "output_type": "stream",
     "text": [
      "Document                                           Predicted Cluster\n",
      "-----------------------------------------------  -------------------\n",
      "I love playing football on the weekends                            1\n",
      "I enjoy hiking and camping in the mountains                        1\n",
      "I like to read books and watch movies                              0\n",
      "I prefer playing video games over sports                           1\n",
      "I love listening to music and going to concerts                    0\n"
     ]
    }
   ],
   "source": [
    "# Tabulate the document and predicted cluster\n",
    "table_data = [[\"Document\", \"Predicted Cluster\"]]\n",
    "table_data.extend([[doc, cluster] for doc, cluster in zip(dataset, y_pred)])\n",
    "print(tabulate(table_data, headers=\"firstrow\"))"
   ]
  },
  {
   "cell_type": "code",
   "execution_count": 18,
   "id": "fde14002",
   "metadata": {},
   "outputs": [
    {
     "name": "stdout",
     "output_type": "stream",
     "text": [
      "Purity: 0.6\n"
     ]
    }
   ],
   "source": [
    "# Calculate purity\n",
    "total_samples = len(y_pred)\n",
    "cluster_label_counts = [Counter(y_pred)]\n",
    "purity = sum(max(cluster.values()) for cluster in cluster_label_counts) / total_samples\n",
    "print(\"Purity:\", purity)\n"
   ]
  },
  {
   "cell_type": "markdown",
   "id": "5f2a6461",
   "metadata": {},
   "source": [
    "Exercise Question 1"
   ]
  },
  {
   "cell_type": "code",
   "execution_count": 28,
   "id": "d2e1a707",
   "metadata": {},
   "outputs": [],
   "source": [
    "import numpy as np\n",
    "from sklearn.cluster import KMeans\n",
    "from sklearn.feature_extraction.text import TfidfVectorizer\n",
    "from tabulate import tabulate\n",
    "from collections import Counter\n",
    "import pandas as pd"
   ]
  },
  {
   "cell_type": "code",
   "execution_count": 34,
   "id": "51a90ad1",
   "metadata": {},
   "outputs": [
    {
     "data": {
      "text/plain": [
       "[{'text': 'I love playing football on the weekends'},\n",
       " {'text': 'I enjoy hiking and camping in the mountains'},\n",
       " {'text': 'I like to read books and watch movies'},\n",
       " {'text': 'I prefer playing video games over sports'},\n",
       " {'text': 'I love listening to music and going to concerts'}]"
      ]
     },
     "execution_count": 34,
     "metadata": {},
     "output_type": "execute_result"
    }
   ],
   "source": [
    "dataset = [\n",
    "    {'text':'I love playing football on the weekends'},\n",
    " {'text': 'I enjoy hiking and camping in the mountains'},\n",
    " {'text':'I like to read books and watch movies'},\n",
    " {'text': 'I prefer playing video games over sports'},\n",
    " {'text': 'I love listening to music and going to concerts'},\n",
    "]\n",
    "dataset"
   ]
  },
  {
   "cell_type": "code",
   "execution_count": 36,
   "id": "75fa9dbd",
   "metadata": {},
   "outputs": [],
   "source": [
    "df = pd.DataFrame(dataset)"
   ]
  },
  {
   "cell_type": "code",
   "execution_count": 38,
   "id": "6071687c",
   "metadata": {},
   "outputs": [],
   "source": [
    "# Define the function to remove punctuation\n",
    "def remove_punctuation(text):\n",
    "    # Your implementation to remove punctuation\n",
    "    pass"
   ]
  },
  {
   "cell_type": "code",
   "execution_count": 39,
   "id": "49c0a741",
   "metadata": {},
   "outputs": [],
   "source": [
    "# Applying the remove_punctuation function to each element of the dataset and storing the result in a new column 'clean_punctuation'\n",
    "df['clean_punctuation'] = df['text'].apply(remove_punctuation)"
   ]
  },
  {
   "cell_type": "code",
   "execution_count": 40,
   "id": "1914089e",
   "metadata": {},
   "outputs": [
    {
     "name": "stdout",
     "output_type": "stream",
     "text": [
      "                                              text clean_punctuation\n",
      "0          I love playing football on the weekends              None\n",
      "1      I enjoy hiking and camping in the mountains              None\n",
      "2            I like to read books and watch movies              None\n",
      "3         I prefer playing video games over sports              None\n",
      "4  I love listening to music and going to concerts              None\n"
     ]
    }
   ],
   "source": [
    "#applying the remove_punctuation function to the 'Review' column and storing the result in a new column 'clean_punctuation'\n",
    "print(df)"
   ]
  },
  {
   "cell_type": "code",
   "execution_count": 43,
   "id": "904a3bd6",
   "metadata": {},
   "outputs": [],
   "source": [
    "#to standardize the cases in the documents into lower case\n",
    "df['clean_lower']= df['text'].str.lower()"
   ]
  },
  {
   "cell_type": "code",
   "execution_count": 44,
   "id": "1379ae10",
   "metadata": {},
   "outputs": [
    {
     "name": "stdout",
     "output_type": "stream",
     "text": [
      "                                              text clean_punctuation  \\\n",
      "0          I love playing football on the weekends              None   \n",
      "1      I enjoy hiking and camping in the mountains              None   \n",
      "2            I like to read books and watch movies              None   \n",
      "3         I prefer playing video games over sports              None   \n",
      "4  I love listening to music and going to concerts              None   \n",
      "\n",
      "                                       clean_lower  \n",
      "0          i love playing football on the weekends  \n",
      "1      i enjoy hiking and camping in the mountains  \n",
      "2            i like to read books and watch movies  \n",
      "3         i prefer playing video games over sports  \n",
      "4  i love listening to music and going to concerts  \n"
     ]
    }
   ],
   "source": [
    "print(df)"
   ]
  },
  {
   "cell_type": "code",
   "execution_count": 45,
   "id": "e7131897",
   "metadata": {},
   "outputs": [],
   "source": [
    "import re"
   ]
  },
  {
   "cell_type": "code",
   "execution_count": 46,
   "id": "275b9efb",
   "metadata": {},
   "outputs": [],
   "source": [
    "def remove_numbers(text):\n",
    "    return re.sub(\"[\\d-]\",'',text)"
   ]
  },
  {
   "cell_type": "code",
   "execution_count": 47,
   "id": "28b11dfb",
   "metadata": {},
   "outputs": [],
   "source": [
    "df['clean_number'] = df['text'].apply(remove_numbers)"
   ]
  },
  {
   "cell_type": "code",
   "execution_count": 48,
   "id": "48119360",
   "metadata": {},
   "outputs": [
    {
     "name": "stdout",
     "output_type": "stream",
     "text": [
      "                                              text clean_punctuation  \\\n",
      "0          I love playing football on the weekends              None   \n",
      "1      I enjoy hiking and camping in the mountains              None   \n",
      "2            I like to read books and watch movies              None   \n",
      "3         I prefer playing video games over sports              None   \n",
      "4  I love listening to music and going to concerts              None   \n",
      "\n",
      "                                       clean_lower  \\\n",
      "0          i love playing football on the weekends   \n",
      "1      i enjoy hiking and camping in the mountains   \n",
      "2            i like to read books and watch movies   \n",
      "3         i prefer playing video games over sports   \n",
      "4  i love listening to music and going to concerts   \n",
      "\n",
      "                                      clean_number  \n",
      "0          I love playing football on the weekends  \n",
      "1      I enjoy hiking and camping in the mountains  \n",
      "2            I like to read books and watch movies  \n",
      "3         I prefer playing video games over sports  \n",
      "4  I love listening to music and going to concerts  \n"
     ]
    }
   ],
   "source": [
    "print(df)"
   ]
  },
  {
   "cell_type": "code",
   "execution_count": 49,
   "id": "ada69da9",
   "metadata": {},
   "outputs": [
    {
     "name": "stderr",
     "output_type": "stream",
     "text": [
      "[nltk_data] Downloading package punkt to\n",
      "[nltk_data]     C:\\Users\\madba\\AppData\\Roaming\\nltk_data...\n",
      "[nltk_data]   Package punkt is already up-to-date!\n"
     ]
    },
    {
     "data": {
      "text/plain": [
       "True"
      ]
     },
     "execution_count": 49,
     "metadata": {},
     "output_type": "execute_result"
    }
   ],
   "source": [
    "import nltk\n",
    "nltk.download('punkt')"
   ]
  },
  {
   "cell_type": "code",
   "execution_count": 50,
   "id": "a0e80ad1",
   "metadata": {},
   "outputs": [],
   "source": [
    "# import the library for word tokenization\n",
    "from nltk.tokenize import word_tokenize"
   ]
  },
  {
   "cell_type": "code",
   "execution_count": 51,
   "id": "55d48dc5",
   "metadata": {},
   "outputs": [],
   "source": [
    "#the word tokens in the document\n",
    "df['token_data']= df['clean_number'].apply(word_tokenize)"
   ]
  },
  {
   "cell_type": "code",
   "execution_count": 52,
   "id": "01338722",
   "metadata": {},
   "outputs": [
    {
     "name": "stdout",
     "output_type": "stream",
     "text": [
      "                                              text clean_punctuation  \\\n",
      "0          I love playing football on the weekends              None   \n",
      "1      I enjoy hiking and camping in the mountains              None   \n",
      "2            I like to read books and watch movies              None   \n",
      "3         I prefer playing video games over sports              None   \n",
      "4  I love listening to music and going to concerts              None   \n",
      "\n",
      "                                       clean_lower  \\\n",
      "0          i love playing football on the weekends   \n",
      "1      i enjoy hiking and camping in the mountains   \n",
      "2            i like to read books and watch movies   \n",
      "3         i prefer playing video games over sports   \n",
      "4  i love listening to music and going to concerts   \n",
      "\n",
      "                                      clean_number  \\\n",
      "0          I love playing football on the weekends   \n",
      "1      I enjoy hiking and camping in the mountains   \n",
      "2            I like to read books and watch movies   \n",
      "3         I prefer playing video games over sports   \n",
      "4  I love listening to music and going to concerts   \n",
      "\n",
      "                                          token_data  \n",
      "0    [I, love, playing, football, on, the, weekends]  \n",
      "1  [I, enjoy, hiking, and, camping, in, the, moun...  \n",
      "2     [I, like, to, read, books, and, watch, movies]  \n",
      "3   [I, prefer, playing, video, games, over, sports]  \n",
      "4  [I, love, listening, to, music, and, going, to...  \n"
     ]
    }
   ],
   "source": [
    "print(df)"
   ]
  },
  {
   "cell_type": "code",
   "execution_count": 53,
   "id": "2af69228",
   "metadata": {},
   "outputs": [
    {
     "name": "stderr",
     "output_type": "stream",
     "text": [
      "[nltk_data] Downloading package stopwords to\n",
      "[nltk_data]     C:\\Users\\madba\\AppData\\Roaming\\nltk_data...\n",
      "[nltk_data]   Package stopwords is already up-to-date!\n"
     ]
    },
    {
     "data": {
      "text/plain": [
       "True"
      ]
     },
     "execution_count": 53,
     "metadata": {},
     "output_type": "execute_result"
    }
   ],
   "source": [
    "#download stopwords\n",
    "nltk.download('stopwords')"
   ]
  },
  {
   "cell_type": "code",
   "execution_count": 54,
   "id": "f93900a9",
   "metadata": {},
   "outputs": [],
   "source": [
    "#Get the list of English stop words present in the library\n",
    "stopwords = nltk.corpus.stopwords.words('english')"
   ]
  },
  {
   "cell_type": "code",
   "execution_count": 55,
   "id": "e296d383",
   "metadata": {},
   "outputs": [
    {
     "name": "stdout",
     "output_type": "stream",
     "text": [
      "['i', 'me', 'my', 'myself', 'we', 'our', 'ours', 'ourselves', 'you', \"you're\", \"you've\", \"you'll\", \"you'd\", 'your', 'yours', 'yourself', 'yourselves', 'he', 'him', 'his', 'himself', 'she', \"she's\", 'her', 'hers', 'herself', 'it', \"it's\", 'its', 'itself', 'they', 'them', 'their', 'theirs', 'themselves', 'what', 'which', 'who', 'whom', 'this', 'that', \"that'll\", 'these', 'those', 'am', 'is', 'are', 'was', 'were', 'be', 'been', 'being', 'have', 'has', 'had', 'having', 'do', 'does', 'did', 'doing', 'a', 'an', 'the', 'and', 'but', 'if', 'or', 'because', 'as', 'until', 'while', 'of', 'at', 'by', 'for', 'with', 'about', 'against', 'between', 'into', 'through', 'during', 'before', 'after', 'above', 'below', 'to', 'from', 'up', 'down', 'in', 'out', 'on', 'off', 'over', 'under', 'again', 'further', 'then', 'once', 'here', 'there', 'when', 'where', 'why', 'how', 'all', 'any', 'both', 'each', 'few', 'more', 'most', 'other', 'some', 'such', 'no', 'nor', 'not', 'only', 'own', 'same', 'so', 'than', 'too', 'very', 's', 't', 'can', 'will', 'just', 'don', \"don't\", 'should', \"should've\", 'now', 'd', 'll', 'm', 'o', 're', 've', 'y', 'ain', 'aren', \"aren't\", 'couldn', \"couldn't\", 'didn', \"didn't\", 'doesn', \"doesn't\", 'hadn', \"hadn't\", 'hasn', \"hasn't\", 'haven', \"haven't\", 'isn', \"isn't\", 'ma', 'mightn', \"mightn't\", 'mustn', \"mustn't\", 'needn', \"needn't\", 'shan', \"shan't\", 'shouldn', \"shouldn't\", 'wasn', \"wasn't\", 'weren', \"weren't\", 'won', \"won't\", 'wouldn', \"wouldn't\"]\n"
     ]
    }
   ],
   "source": [
    "# Print the list of stopwords\n",
    "print(stopwords)"
   ]
  },
  {
   "cell_type": "code",
   "execution_count": 56,
   "id": "c2ff91f2",
   "metadata": {},
   "outputs": [],
   "source": [
    "#defining the function to remove stopwords from tokenized text\n",
    "def remove_stopwords(text):\n",
    "    output = []\n",
    "    for i in text:\n",
    "        if i not in stopwords:\n",
    "            output.append(i)\n",
    "    return output"
   ]
  },
  {
   "cell_type": "code",
   "execution_count": 57,
   "id": "6296c521",
   "metadata": {},
   "outputs": [],
   "source": [
    "#Applying the remove_stopwords function to the 'token_data' column and storing the result in a new column 'clean_xstopwords'\n",
    "df['clean_xstopwords'] = df['token_data'].apply(remove_stopwords)"
   ]
  },
  {
   "cell_type": "code",
   "execution_count": 58,
   "id": "84d86aa6",
   "metadata": {},
   "outputs": [
    {
     "name": "stdout",
     "output_type": "stream",
     "text": [
      "                                              text clean_punctuation  \\\n",
      "0          I love playing football on the weekends              None   \n",
      "1      I enjoy hiking and camping in the mountains              None   \n",
      "2            I like to read books and watch movies              None   \n",
      "3         I prefer playing video games over sports              None   \n",
      "4  I love listening to music and going to concerts              None   \n",
      "\n",
      "                                       clean_lower  \\\n",
      "0          i love playing football on the weekends   \n",
      "1      i enjoy hiking and camping in the mountains   \n",
      "2            i like to read books and watch movies   \n",
      "3         i prefer playing video games over sports   \n",
      "4  i love listening to music and going to concerts   \n",
      "\n",
      "                                      clean_number  \\\n",
      "0          I love playing football on the weekends   \n",
      "1      I enjoy hiking and camping in the mountains   \n",
      "2            I like to read books and watch movies   \n",
      "3         I prefer playing video games over sports   \n",
      "4  I love listening to music and going to concerts   \n",
      "\n",
      "                                          token_data  \\\n",
      "0    [I, love, playing, football, on, the, weekends]   \n",
      "1  [I, enjoy, hiking, and, camping, in, the, moun...   \n",
      "2     [I, like, to, read, books, and, watch, movies]   \n",
      "3   [I, prefer, playing, video, games, over, sports]   \n",
      "4  [I, love, listening, to, music, and, going, to...   \n",
      "\n",
      "                               clean_xstopwords  \n",
      "0        [I, love, playing, football, weekends]  \n",
      "1        [I, enjoy, hiking, camping, mountains]  \n",
      "2         [I, like, read, books, watch, movies]  \n",
      "3    [I, prefer, playing, video, games, sports]  \n",
      "4  [I, love, listening, music, going, concerts]  \n"
     ]
    }
   ],
   "source": [
    "print(df)"
   ]
  },
  {
   "cell_type": "code",
   "execution_count": 59,
   "id": "045ae4d2",
   "metadata": {},
   "outputs": [],
   "source": [
    "#importing the Stemming function from nltk library\n",
    "from nltk.stem.porter import PorterStemmer"
   ]
  },
  {
   "cell_type": "code",
   "execution_count": 60,
   "id": "ce714672",
   "metadata": {},
   "outputs": [],
   "source": [
    "#defining the object for stemming\n",
    "porter_stemmer = PorterStemmer()"
   ]
  },
  {
   "cell_type": "code",
   "execution_count": 61,
   "id": "6dff8cf3",
   "metadata": {},
   "outputs": [],
   "source": [
    "#defining a function for stemming\n",
    "def stemming(text):\n",
    "    stem_text = []\n",
    "    for word in text:\n",
    "        stemmed_word = porter_stemmer.stem(word)\n",
    "        stem_text.append(stemmed_word)\n",
    "    return stem_text"
   ]
  },
  {
   "cell_type": "code",
   "execution_count": 62,
   "id": "0ef08bf4",
   "metadata": {},
   "outputs": [],
   "source": [
    "#applying the stemming function to the 'clean_xstopwords' column and storing the result in a new column 'clean_stemmed'\n",
    "df['clean_stemmed'] = df['clean_xstopwords'].apply(stemming)"
   ]
  },
  {
   "cell_type": "code",
   "execution_count": 63,
   "id": "8e27e56b",
   "metadata": {},
   "outputs": [
    {
     "name": "stdout",
     "output_type": "stream",
     "text": [
      "                                              text clean_punctuation  \\\n",
      "0          I love playing football on the weekends              None   \n",
      "1      I enjoy hiking and camping in the mountains              None   \n",
      "2            I like to read books and watch movies              None   \n",
      "3         I prefer playing video games over sports              None   \n",
      "4  I love listening to music and going to concerts              None   \n",
      "\n",
      "                                       clean_lower  \\\n",
      "0          i love playing football on the weekends   \n",
      "1      i enjoy hiking and camping in the mountains   \n",
      "2            i like to read books and watch movies   \n",
      "3         i prefer playing video games over sports   \n",
      "4  i love listening to music and going to concerts   \n",
      "\n",
      "                                      clean_number  \\\n",
      "0          I love playing football on the weekends   \n",
      "1      I enjoy hiking and camping in the mountains   \n",
      "2            I like to read books and watch movies   \n",
      "3         I prefer playing video games over sports   \n",
      "4  I love listening to music and going to concerts   \n",
      "\n",
      "                                          token_data  \\\n",
      "0    [I, love, playing, football, on, the, weekends]   \n",
      "1  [I, enjoy, hiking, and, camping, in, the, moun...   \n",
      "2     [I, like, to, read, books, and, watch, movies]   \n",
      "3   [I, prefer, playing, video, games, over, sports]   \n",
      "4  [I, love, listening, to, music, and, going, to...   \n",
      "\n",
      "                               clean_xstopwords  \\\n",
      "0        [I, love, playing, football, weekends]   \n",
      "1        [I, enjoy, hiking, camping, mountains]   \n",
      "2         [I, like, read, books, watch, movies]   \n",
      "3    [I, prefer, playing, video, games, sports]   \n",
      "4  [I, love, listening, music, going, concerts]   \n",
      "\n",
      "                           clean_stemmed  \n",
      "0      [i, love, play, footbal, weekend]  \n",
      "1       [i, enjoy, hike, camp, mountain]  \n",
      "2     [i, like, read, book, watch, movi]  \n",
      "3  [i, prefer, play, video, game, sport]  \n",
      "4  [i, love, listen, music, go, concert]  \n"
     ]
    }
   ],
   "source": [
    "print(df)"
   ]
  },
  {
   "cell_type": "code",
   "execution_count": 64,
   "id": "c39cec55",
   "metadata": {},
   "outputs": [
    {
     "name": "stderr",
     "output_type": "stream",
     "text": [
      "[nltk_data] Downloading package wordnet to\n",
      "[nltk_data]     C:\\Users\\madba\\AppData\\Roaming\\nltk_data...\n",
      "[nltk_data]   Package wordnet is already up-to-date!\n"
     ]
    },
    {
     "data": {
      "text/plain": [
       "True"
      ]
     },
     "execution_count": 64,
     "metadata": {},
     "output_type": "execute_result"
    }
   ],
   "source": [
    "nltk.download('wordnet')"
   ]
  },
  {
   "cell_type": "code",
   "execution_count": 65,
   "id": "e7bed5ec",
   "metadata": {},
   "outputs": [],
   "source": [
    "#importing the Lemmatizer function from nltk library\n",
    "from nltk.stem import WordNetLemmatizer"
   ]
  },
  {
   "cell_type": "code",
   "execution_count": 66,
   "id": "3ccef6df",
   "metadata": {},
   "outputs": [],
   "source": [
    "#defining the object for Lemmatization\n",
    "wordnet_lemmatizer = WordNetLemmatizer()"
   ]
  },
  {
   "cell_type": "code",
   "execution_count": 67,
   "id": "25ba298e",
   "metadata": {},
   "outputs": [],
   "source": [
    "#defining the function for lemmatization\n",
    "def lemmatizer(text):\n",
    "    lemm_text = []\n",
    "    for word in text:\n",
    "        lemmatized_word = wordnet_lemmatizer.lemmatize(word)\n",
    "        lemm_text.append(lemmatized_word)\n",
    "    return lemm_text"
   ]
  },
  {
   "cell_type": "code",
   "execution_count": 68,
   "id": "dbf3d357",
   "metadata": {},
   "outputs": [],
   "source": [
    "#applying the lemmatizer function to the 'clean_xstopwords' column and storing the result in a new column 'clean_lemmatized1'\n",
    "df['clean_lemmatized1']=df['clean_xstopwords'].apply(lemmatizer)"
   ]
  },
  {
   "cell_type": "code",
   "execution_count": 69,
   "id": "d5fd3754",
   "metadata": {},
   "outputs": [],
   "source": [
    "#applying the lemmatizer function to the 'clean_stemmed' column and storing the result in a new column 'clean_lemmatized2'\n",
    "df['clean_lemmatized2']=df['clean_stemmed'].apply(lemmatizer)"
   ]
  },
  {
   "cell_type": "code",
   "execution_count": 70,
   "id": "8785dbcb",
   "metadata": {},
   "outputs": [
    {
     "name": "stdout",
     "output_type": "stream",
     "text": [
      "                                              text clean_punctuation  \\\n",
      "0          I love playing football on the weekends              None   \n",
      "1      I enjoy hiking and camping in the mountains              None   \n",
      "2            I like to read books and watch movies              None   \n",
      "3         I prefer playing video games over sports              None   \n",
      "4  I love listening to music and going to concerts              None   \n",
      "\n",
      "                                       clean_lower  \\\n",
      "0          i love playing football on the weekends   \n",
      "1      i enjoy hiking and camping in the mountains   \n",
      "2            i like to read books and watch movies   \n",
      "3         i prefer playing video games over sports   \n",
      "4  i love listening to music and going to concerts   \n",
      "\n",
      "                                      clean_number  \\\n",
      "0          I love playing football on the weekends   \n",
      "1      I enjoy hiking and camping in the mountains   \n",
      "2            I like to read books and watch movies   \n",
      "3         I prefer playing video games over sports   \n",
      "4  I love listening to music and going to concerts   \n",
      "\n",
      "                                          token_data  \\\n",
      "0    [I, love, playing, football, on, the, weekends]   \n",
      "1  [I, enjoy, hiking, and, camping, in, the, moun...   \n",
      "2     [I, like, to, read, books, and, watch, movies]   \n",
      "3   [I, prefer, playing, video, games, over, sports]   \n",
      "4  [I, love, listening, to, music, and, going, to...   \n",
      "\n",
      "                               clean_xstopwords  \\\n",
      "0        [I, love, playing, football, weekends]   \n",
      "1        [I, enjoy, hiking, camping, mountains]   \n",
      "2         [I, like, read, books, watch, movies]   \n",
      "3    [I, prefer, playing, video, games, sports]   \n",
      "4  [I, love, listening, music, going, concerts]   \n",
      "\n",
      "                           clean_stemmed  \\\n",
      "0      [i, love, play, footbal, weekend]   \n",
      "1       [i, enjoy, hike, camp, mountain]   \n",
      "2     [i, like, read, book, watch, movi]   \n",
      "3  [i, prefer, play, video, game, sport]   \n",
      "4  [i, love, listen, music, go, concert]   \n",
      "\n",
      "                             clean_lemmatized1  \\\n",
      "0        [I, love, playing, football, weekend]   \n",
      "1        [I, enjoy, hiking, camping, mountain]   \n",
      "2          [I, like, read, book, watch, movie]   \n",
      "3     [I, prefer, playing, video, game, sport]   \n",
      "4  [I, love, listening, music, going, concert]   \n",
      "\n",
      "                       clean_lemmatized2  \n",
      "0      [i, love, play, footbal, weekend]  \n",
      "1       [i, enjoy, hike, camp, mountain]  \n",
      "2     [i, like, read, book, watch, movi]  \n",
      "3  [i, prefer, play, video, game, sport]  \n",
      "4  [i, love, listen, music, go, concert]  \n"
     ]
    }
   ],
   "source": [
    "print(df)"
   ]
  },
  {
   "cell_type": "code",
   "execution_count": 76,
   "id": "a4ecda8f",
   "metadata": {},
   "outputs": [],
   "source": [
    "vectorizer = TfidfVectorizer()\n",
    "X = vectorizer.fit_transform(dataset)"
   ]
  },
  {
   "cell_type": "code",
   "execution_count": 81,
   "id": "99dd0d9f",
   "metadata": {},
   "outputs": [
    {
     "name": "stdout",
     "output_type": "stream",
     "text": [
      "Document                                             Predicted Cluster\n",
      "-------------------------------------------------  -------------------\n",
      "['i', 'love', 'play', 'footbal', 'weekend']                          0\n",
      "['i', 'enjoy', 'hike', 'camp', 'mountain']                           0\n",
      "['i', 'like', 'read', 'book', 'watch', 'movi']                       1\n",
      "['i', 'prefer', 'play', 'video', 'game', 'sport']                    0\n",
      "['i', 'love', 'listen', 'music', 'go', 'concert']                    1\n",
      "\n",
      "Top terms per cluster:\n",
      "Cluster 0:\n",
      " playing\n",
      " the\n",
      " weekends\n",
      " on\n",
      " football\n",
      " video\n",
      " sports\n",
      " prefer\n",
      " over\n",
      " games\n",
      "\n",
      "Cluster 1:\n",
      " to\n",
      " and\n",
      " read\n",
      " watch\n",
      " movies\n",
      " like\n",
      " books\n",
      " concerts\n",
      " going\n",
      " music\n",
      "\n"
     ]
    }
   ],
   "source": [
    "k = 2  # Define the number of clusters\n",
    "km = KMeans(n_clusters=k)\n",
    "km.fit(X)\n",
    "# Predict the clusters for each document\n",
    "y_pred = km.predict(X)\n",
    "# Display the document and its predicted cluster in a table\n",
    "table_data = [[\"Document\", \"Predicted Cluster\"]]\n",
    "table_data.extend([[doc, cluster] for doc, cluster in zip(df['clean_lemmatized2'], y_pred)])\n",
    "print(tabulate(table_data, headers=\"firstrow\"))\n",
    "\n",
    "# Print top terms per cluster\n",
    "print(\"\\nTop terms per cluster:\")\n",
    "order_centroids = km.cluster_centers_.argsort()[:, ::-1]\n",
    "terms = vectorizer.get_feature_names_out()\n",
    "for i in range(k):\n",
    "    print(\"Cluster %d:\" % i)\n",
    "    for ind in order_centroids[i, :10]:\n",
    "        print(' %s' % terms[ind])\n",
    "    print()\n",
    "\n"
   ]
  },
  {
   "cell_type": "code",
   "execution_count": 83,
   "id": "33bb697e",
   "metadata": {},
   "outputs": [
    {
     "name": "stdout",
     "output_type": "stream",
     "text": [
      "Purity: 0.17857142857142858\n"
     ]
    }
   ],
   "source": [
    "from collections import Counter\n",
    "import itertools\n",
    "\n",
    "# Flatten the lists in df['clean_lemmatized2']\n",
    "flattened_list = list(itertools.chain.from_iterable(df['clean_lemmatized2']))\n",
    "\n",
    "# Calculate purity\n",
    "total_samples = len(flattened_list)\n",
    "cluster_label_counts = Counter(flattened_list)\n",
    "purity = max(cluster_label_counts.values()) / total_samples\n",
    "\n",
    "print(\"Purity:\", purity)\n"
   ]
  },
  {
   "cell_type": "markdown",
   "id": "3a5c3946",
   "metadata": {},
   "source": [
    "Yes the purity reading is different\n"
   ]
  },
  {
   "cell_type": "markdown",
   "id": "ef1354fb",
   "metadata": {},
   "source": [
    "# word2vec"
   ]
  },
  {
   "cell_type": "code",
   "execution_count": 84,
   "id": "f49f1964",
   "metadata": {},
   "outputs": [],
   "source": [
    "import numpy as np\n",
    "from sklearn.cluster import KMeans\n",
    "from gensim.models import Word2Vec\n",
    "from tabulate import tabulate\n",
    "from collections import Counter\n"
   ]
  },
  {
   "cell_type": "code",
   "execution_count": 87,
   "id": "5650034a",
   "metadata": {},
   "outputs": [
    {
     "data": {
      "text/plain": [
       "[{'text': 'I love playing football on the weekends'},\n",
       " {'text': 'I enjoy hiking and camping in the mountains'},\n",
       " {'text': 'I like to read books and watch movies'},\n",
       " {'text': 'I prefer playing video games over sports'},\n",
       " {'text': 'I love listening to music and going to concerts'}]"
      ]
     },
     "execution_count": 87,
     "metadata": {},
     "output_type": "execute_result"
    }
   ],
   "source": [
    "dataset = [\n",
    "    {'text':'I love playing football on the weekends'},\n",
    " {'text': 'I enjoy hiking and camping in the mountains'},\n",
    " {'text':'I like to read books and watch movies'},\n",
    " {'text': 'I prefer playing video games over sports'},\n",
    " {'text': 'I love listening to music and going to concerts'},\n",
    "]\n",
    "dataset"
   ]
  },
  {
   "cell_type": "code",
   "execution_count": 88,
   "id": "61592595",
   "metadata": {},
   "outputs": [],
   "source": [
    "df = pd.DataFrame(dataset)"
   ]
  },
  {
   "cell_type": "code",
   "execution_count": 89,
   "id": "0d8ff7fa",
   "metadata": {},
   "outputs": [],
   "source": [
    "# Define the function to remove punctuation\n",
    "def remove_punctuation(text):\n",
    "    # Your implementation to remove punctuation\n",
    "    pass"
   ]
  },
  {
   "cell_type": "code",
   "execution_count": 90,
   "id": "1a725747",
   "metadata": {},
   "outputs": [],
   "source": [
    "# Applying the remove_punctuation function to each element of the dataset and storing the result in a new column 'clean_punctuation'\n",
    "df['clean_punctuation'] = df['text'].apply(remove_punctuation)"
   ]
  },
  {
   "cell_type": "code",
   "execution_count": 91,
   "id": "af4b54bb",
   "metadata": {},
   "outputs": [
    {
     "name": "stdout",
     "output_type": "stream",
     "text": [
      "                                              text clean_punctuation\n",
      "0          I love playing football on the weekends              None\n",
      "1      I enjoy hiking and camping in the mountains              None\n",
      "2            I like to read books and watch movies              None\n",
      "3         I prefer playing video games over sports              None\n",
      "4  I love listening to music and going to concerts              None\n"
     ]
    }
   ],
   "source": [
    "print(df)"
   ]
  },
  {
   "cell_type": "code",
   "execution_count": 92,
   "id": "99905c80",
   "metadata": {},
   "outputs": [],
   "source": [
    "#to standardize the cases in the documents into lower case\n",
    "df['clean_lower']= df['text'].str.lower()"
   ]
  },
  {
   "cell_type": "code",
   "execution_count": 93,
   "id": "a3f575d9",
   "metadata": {},
   "outputs": [
    {
     "name": "stdout",
     "output_type": "stream",
     "text": [
      "                                              text clean_punctuation  \\\n",
      "0          I love playing football on the weekends              None   \n",
      "1      I enjoy hiking and camping in the mountains              None   \n",
      "2            I like to read books and watch movies              None   \n",
      "3         I prefer playing video games over sports              None   \n",
      "4  I love listening to music and going to concerts              None   \n",
      "\n",
      "                                       clean_lower  \n",
      "0          i love playing football on the weekends  \n",
      "1      i enjoy hiking and camping in the mountains  \n",
      "2            i like to read books and watch movies  \n",
      "3         i prefer playing video games over sports  \n",
      "4  i love listening to music and going to concerts  \n"
     ]
    }
   ],
   "source": [
    "print(df)"
   ]
  },
  {
   "cell_type": "code",
   "execution_count": 94,
   "id": "f3ec5e22",
   "metadata": {},
   "outputs": [],
   "source": [
    "import re"
   ]
  },
  {
   "cell_type": "code",
   "execution_count": 95,
   "id": "ba1a1cc5",
   "metadata": {},
   "outputs": [],
   "source": [
    "def remove_numbers(text):\n",
    "    return re.sub(\"[\\d-]\",'',text)"
   ]
  },
  {
   "cell_type": "code",
   "execution_count": 96,
   "id": "4e2ee8f4",
   "metadata": {},
   "outputs": [],
   "source": [
    "df['clean_number'] = df['text'].apply(remove_numbers)"
   ]
  },
  {
   "cell_type": "code",
   "execution_count": 97,
   "id": "a7675483",
   "metadata": {},
   "outputs": [
    {
     "name": "stdout",
     "output_type": "stream",
     "text": [
      "                                              text clean_punctuation  \\\n",
      "0          I love playing football on the weekends              None   \n",
      "1      I enjoy hiking and camping in the mountains              None   \n",
      "2            I like to read books and watch movies              None   \n",
      "3         I prefer playing video games over sports              None   \n",
      "4  I love listening to music and going to concerts              None   \n",
      "\n",
      "                                       clean_lower  \\\n",
      "0          i love playing football on the weekends   \n",
      "1      i enjoy hiking and camping in the mountains   \n",
      "2            i like to read books and watch movies   \n",
      "3         i prefer playing video games over sports   \n",
      "4  i love listening to music and going to concerts   \n",
      "\n",
      "                                      clean_number  \n",
      "0          I love playing football on the weekends  \n",
      "1      I enjoy hiking and camping in the mountains  \n",
      "2            I like to read books and watch movies  \n",
      "3         I prefer playing video games over sports  \n",
      "4  I love listening to music and going to concerts  \n"
     ]
    }
   ],
   "source": [
    "print(df)"
   ]
  },
  {
   "cell_type": "code",
   "execution_count": 98,
   "id": "b351be21",
   "metadata": {},
   "outputs": [
    {
     "name": "stderr",
     "output_type": "stream",
     "text": [
      "[nltk_data] Downloading package punkt to\n",
      "[nltk_data]     C:\\Users\\madba\\AppData\\Roaming\\nltk_data...\n",
      "[nltk_data]   Package punkt is already up-to-date!\n"
     ]
    },
    {
     "data": {
      "text/plain": [
       "True"
      ]
     },
     "execution_count": 98,
     "metadata": {},
     "output_type": "execute_result"
    }
   ],
   "source": [
    "import nltk\n",
    "nltk.download('punkt')"
   ]
  },
  {
   "cell_type": "code",
   "execution_count": 99,
   "id": "0e5ba606",
   "metadata": {},
   "outputs": [],
   "source": [
    "# import the library for word tokenization\n",
    "from nltk.tokenize import word_tokenize"
   ]
  },
  {
   "cell_type": "code",
   "execution_count": 100,
   "id": "fd46ea15",
   "metadata": {},
   "outputs": [],
   "source": [
    "#the word tokens in the document\n",
    "df['token_data']= df['clean_number'].apply(word_tokenize)"
   ]
  },
  {
   "cell_type": "code",
   "execution_count": 101,
   "id": "593c8261",
   "metadata": {},
   "outputs": [
    {
     "name": "stdout",
     "output_type": "stream",
     "text": [
      "                                              text clean_punctuation  \\\n",
      "0          I love playing football on the weekends              None   \n",
      "1      I enjoy hiking and camping in the mountains              None   \n",
      "2            I like to read books and watch movies              None   \n",
      "3         I prefer playing video games over sports              None   \n",
      "4  I love listening to music and going to concerts              None   \n",
      "\n",
      "                                       clean_lower  \\\n",
      "0          i love playing football on the weekends   \n",
      "1      i enjoy hiking and camping in the mountains   \n",
      "2            i like to read books and watch movies   \n",
      "3         i prefer playing video games over sports   \n",
      "4  i love listening to music and going to concerts   \n",
      "\n",
      "                                      clean_number  \\\n",
      "0          I love playing football on the weekends   \n",
      "1      I enjoy hiking and camping in the mountains   \n",
      "2            I like to read books and watch movies   \n",
      "3         I prefer playing video games over sports   \n",
      "4  I love listening to music and going to concerts   \n",
      "\n",
      "                                          token_data  \n",
      "0    [I, love, playing, football, on, the, weekends]  \n",
      "1  [I, enjoy, hiking, and, camping, in, the, moun...  \n",
      "2     [I, like, to, read, books, and, watch, movies]  \n",
      "3   [I, prefer, playing, video, games, over, sports]  \n",
      "4  [I, love, listening, to, music, and, going, to...  \n"
     ]
    }
   ],
   "source": [
    "print(df)"
   ]
  },
  {
   "cell_type": "code",
   "execution_count": 102,
   "id": "fb4b26d0",
   "metadata": {},
   "outputs": [
    {
     "name": "stderr",
     "output_type": "stream",
     "text": [
      "[nltk_data] Downloading package stopwords to\n",
      "[nltk_data]     C:\\Users\\madba\\AppData\\Roaming\\nltk_data...\n",
      "[nltk_data]   Package stopwords is already up-to-date!\n"
     ]
    },
    {
     "data": {
      "text/plain": [
       "True"
      ]
     },
     "execution_count": 102,
     "metadata": {},
     "output_type": "execute_result"
    }
   ],
   "source": [
    "#download stopwords\n",
    "nltk.download('stopwords')"
   ]
  },
  {
   "cell_type": "code",
   "execution_count": 103,
   "id": "6435e6a5",
   "metadata": {},
   "outputs": [],
   "source": [
    "#Get the list of English stop words present in the library\n",
    "stopwords = nltk.corpus.stopwords.words('english')"
   ]
  },
  {
   "cell_type": "code",
   "execution_count": 104,
   "id": "c1bcbb7b",
   "metadata": {},
   "outputs": [],
   "source": [
    "#defining the function to remove stopwords from tokenized text\n",
    "def remove_stopwords(text):\n",
    "    output = []\n",
    "    for i in text:\n",
    "        if i not in stopwords:\n",
    "            output.append(i)\n",
    "    return output"
   ]
  },
  {
   "cell_type": "code",
   "execution_count": 105,
   "id": "69dffe9c",
   "metadata": {},
   "outputs": [],
   "source": [
    "#Applying the remove_stopwords function to the 'token_data' column and storing the result in a new column 'clean_xstopwords'\n",
    "df['clean_xstopwords'] = df['token_data'].apply(remove_stopwords)"
   ]
  },
  {
   "cell_type": "code",
   "execution_count": 106,
   "id": "d8a75236",
   "metadata": {},
   "outputs": [
    {
     "name": "stdout",
     "output_type": "stream",
     "text": [
      "                                              text clean_punctuation  \\\n",
      "0          I love playing football on the weekends              None   \n",
      "1      I enjoy hiking and camping in the mountains              None   \n",
      "2            I like to read books and watch movies              None   \n",
      "3         I prefer playing video games over sports              None   \n",
      "4  I love listening to music and going to concerts              None   \n",
      "\n",
      "                                       clean_lower  \\\n",
      "0          i love playing football on the weekends   \n",
      "1      i enjoy hiking and camping in the mountains   \n",
      "2            i like to read books and watch movies   \n",
      "3         i prefer playing video games over sports   \n",
      "4  i love listening to music and going to concerts   \n",
      "\n",
      "                                      clean_number  \\\n",
      "0          I love playing football on the weekends   \n",
      "1      I enjoy hiking and camping in the mountains   \n",
      "2            I like to read books and watch movies   \n",
      "3         I prefer playing video games over sports   \n",
      "4  I love listening to music and going to concerts   \n",
      "\n",
      "                                          token_data  \\\n",
      "0    [I, love, playing, football, on, the, weekends]   \n",
      "1  [I, enjoy, hiking, and, camping, in, the, moun...   \n",
      "2     [I, like, to, read, books, and, watch, movies]   \n",
      "3   [I, prefer, playing, video, games, over, sports]   \n",
      "4  [I, love, listening, to, music, and, going, to...   \n",
      "\n",
      "                               clean_xstopwords  \n",
      "0        [I, love, playing, football, weekends]  \n",
      "1        [I, enjoy, hiking, camping, mountains]  \n",
      "2         [I, like, read, books, watch, movies]  \n",
      "3    [I, prefer, playing, video, games, sports]  \n",
      "4  [I, love, listening, music, going, concerts]  \n"
     ]
    }
   ],
   "source": [
    "print(df)"
   ]
  },
  {
   "cell_type": "code",
   "execution_count": 107,
   "id": "df122387",
   "metadata": {},
   "outputs": [],
   "source": [
    "#importing the Stemming function from nltk library\n",
    "from nltk.stem.porter import PorterStemmer"
   ]
  },
  {
   "cell_type": "code",
   "execution_count": 108,
   "id": "00db2e1f",
   "metadata": {},
   "outputs": [],
   "source": [
    "#defining the object for stemming\n",
    "porter_stemmer = PorterStemmer()"
   ]
  },
  {
   "cell_type": "code",
   "execution_count": 109,
   "id": "112e637f",
   "metadata": {},
   "outputs": [],
   "source": [
    "#defining a function for stemming\n",
    "def stemming(text):\n",
    "    stem_text = []\n",
    "    for word in text:\n",
    "        stemmed_word = porter_stemmer.stem(word)\n",
    "        stem_text.append(stemmed_word)\n",
    "    return stem_text"
   ]
  },
  {
   "cell_type": "code",
   "execution_count": 110,
   "id": "df008ef2",
   "metadata": {},
   "outputs": [],
   "source": [
    "#applying the stemming function to the 'clean_xstopwords' column and storing the result in a new column 'clean_stemmed'\n",
    "df['clean_stemmed'] = df['clean_xstopwords'].apply(stemming)"
   ]
  },
  {
   "cell_type": "code",
   "execution_count": 111,
   "id": "3d500d81",
   "metadata": {},
   "outputs": [
    {
     "name": "stdout",
     "output_type": "stream",
     "text": [
      "                                              text clean_punctuation  \\\n",
      "0          I love playing football on the weekends              None   \n",
      "1      I enjoy hiking and camping in the mountains              None   \n",
      "2            I like to read books and watch movies              None   \n",
      "3         I prefer playing video games over sports              None   \n",
      "4  I love listening to music and going to concerts              None   \n",
      "\n",
      "                                       clean_lower  \\\n",
      "0          i love playing football on the weekends   \n",
      "1      i enjoy hiking and camping in the mountains   \n",
      "2            i like to read books and watch movies   \n",
      "3         i prefer playing video games over sports   \n",
      "4  i love listening to music and going to concerts   \n",
      "\n",
      "                                      clean_number  \\\n",
      "0          I love playing football on the weekends   \n",
      "1      I enjoy hiking and camping in the mountains   \n",
      "2            I like to read books and watch movies   \n",
      "3         I prefer playing video games over sports   \n",
      "4  I love listening to music and going to concerts   \n",
      "\n",
      "                                          token_data  \\\n",
      "0    [I, love, playing, football, on, the, weekends]   \n",
      "1  [I, enjoy, hiking, and, camping, in, the, moun...   \n",
      "2     [I, like, to, read, books, and, watch, movies]   \n",
      "3   [I, prefer, playing, video, games, over, sports]   \n",
      "4  [I, love, listening, to, music, and, going, to...   \n",
      "\n",
      "                               clean_xstopwords  \\\n",
      "0        [I, love, playing, football, weekends]   \n",
      "1        [I, enjoy, hiking, camping, mountains]   \n",
      "2         [I, like, read, books, watch, movies]   \n",
      "3    [I, prefer, playing, video, games, sports]   \n",
      "4  [I, love, listening, music, going, concerts]   \n",
      "\n",
      "                           clean_stemmed  \n",
      "0      [i, love, play, footbal, weekend]  \n",
      "1       [i, enjoy, hike, camp, mountain]  \n",
      "2     [i, like, read, book, watch, movi]  \n",
      "3  [i, prefer, play, video, game, sport]  \n",
      "4  [i, love, listen, music, go, concert]  \n"
     ]
    }
   ],
   "source": [
    "print(df)"
   ]
  },
  {
   "cell_type": "code",
   "execution_count": 112,
   "id": "a7725da9",
   "metadata": {},
   "outputs": [
    {
     "name": "stderr",
     "output_type": "stream",
     "text": [
      "[nltk_data] Downloading package wordnet to\n",
      "[nltk_data]     C:\\Users\\madba\\AppData\\Roaming\\nltk_data...\n",
      "[nltk_data]   Package wordnet is already up-to-date!\n"
     ]
    },
    {
     "data": {
      "text/plain": [
       "True"
      ]
     },
     "execution_count": 112,
     "metadata": {},
     "output_type": "execute_result"
    }
   ],
   "source": [
    "nltk.download('wordnet')"
   ]
  },
  {
   "cell_type": "code",
   "execution_count": 113,
   "id": "ca1c4ecd",
   "metadata": {},
   "outputs": [],
   "source": [
    "#importing the Lemmatizer function from nltk library\n",
    "from nltk.stem import WordNetLemmatizer"
   ]
  },
  {
   "cell_type": "code",
   "execution_count": 114,
   "id": "8782c62d",
   "metadata": {},
   "outputs": [],
   "source": [
    "#defining the object for Lemmatization\n",
    "wordnet_lemmatizer = WordNetLemmatizer()"
   ]
  },
  {
   "cell_type": "code",
   "execution_count": 115,
   "id": "6cde03ff",
   "metadata": {},
   "outputs": [],
   "source": [
    "#defining the function for lemmatization\n",
    "def lemmatizer(text):\n",
    "    lemm_text = []\n",
    "    for word in text:\n",
    "        lemmatized_word = wordnet_lemmatizer.lemmatize(word)\n",
    "        lemm_text.append(lemmatized_word)\n",
    "    return lemm_text"
   ]
  },
  {
   "cell_type": "code",
   "execution_count": 116,
   "id": "85dd2fb6",
   "metadata": {},
   "outputs": [],
   "source": [
    "#applying the lemmatizer function to the 'clean_xstopwords' column and storing the result in a new column 'clean_lemmatized1'\n",
    "df['clean_lemmatized1']=df['clean_xstopwords'].apply(lemmatizer)"
   ]
  },
  {
   "cell_type": "code",
   "execution_count": 117,
   "id": "768a7034",
   "metadata": {},
   "outputs": [],
   "source": [
    "#applying the lemmatizer function to the 'clean_stemmed' column and storing the result in a new column 'clean_lemmatized2'\n",
    "df['clean_lemmatized2']=df['clean_stemmed'].apply(lemmatizer)"
   ]
  },
  {
   "cell_type": "code",
   "execution_count": 118,
   "id": "7475b1bc",
   "metadata": {},
   "outputs": [
    {
     "name": "stdout",
     "output_type": "stream",
     "text": [
      "                                              text clean_punctuation  \\\n",
      "0          I love playing football on the weekends              None   \n",
      "1      I enjoy hiking and camping in the mountains              None   \n",
      "2            I like to read books and watch movies              None   \n",
      "3         I prefer playing video games over sports              None   \n",
      "4  I love listening to music and going to concerts              None   \n",
      "\n",
      "                                       clean_lower  \\\n",
      "0          i love playing football on the weekends   \n",
      "1      i enjoy hiking and camping in the mountains   \n",
      "2            i like to read books and watch movies   \n",
      "3         i prefer playing video games over sports   \n",
      "4  i love listening to music and going to concerts   \n",
      "\n",
      "                                      clean_number  \\\n",
      "0          I love playing football on the weekends   \n",
      "1      I enjoy hiking and camping in the mountains   \n",
      "2            I like to read books and watch movies   \n",
      "3         I prefer playing video games over sports   \n",
      "4  I love listening to music and going to concerts   \n",
      "\n",
      "                                          token_data  \\\n",
      "0    [I, love, playing, football, on, the, weekends]   \n",
      "1  [I, enjoy, hiking, and, camping, in, the, moun...   \n",
      "2     [I, like, to, read, books, and, watch, movies]   \n",
      "3   [I, prefer, playing, video, games, over, sports]   \n",
      "4  [I, love, listening, to, music, and, going, to...   \n",
      "\n",
      "                               clean_xstopwords  \\\n",
      "0        [I, love, playing, football, weekends]   \n",
      "1        [I, enjoy, hiking, camping, mountains]   \n",
      "2         [I, like, read, books, watch, movies]   \n",
      "3    [I, prefer, playing, video, games, sports]   \n",
      "4  [I, love, listening, music, going, concerts]   \n",
      "\n",
      "                           clean_stemmed  \\\n",
      "0      [i, love, play, footbal, weekend]   \n",
      "1       [i, enjoy, hike, camp, mountain]   \n",
      "2     [i, like, read, book, watch, movi]   \n",
      "3  [i, prefer, play, video, game, sport]   \n",
      "4  [i, love, listen, music, go, concert]   \n",
      "\n",
      "                             clean_lemmatized1  \\\n",
      "0        [I, love, playing, football, weekend]   \n",
      "1        [I, enjoy, hiking, camping, mountain]   \n",
      "2          [I, like, read, book, watch, movie]   \n",
      "3     [I, prefer, playing, video, game, sport]   \n",
      "4  [I, love, listening, music, going, concert]   \n",
      "\n",
      "                       clean_lemmatized2  \n",
      "0      [i, love, play, footbal, weekend]  \n",
      "1       [i, enjoy, hike, camp, mountain]  \n",
      "2     [i, like, read, book, watch, movi]  \n",
      "3  [i, prefer, play, video, game, sport]  \n",
      "4  [i, love, listen, music, go, concert]  \n"
     ]
    }
   ],
   "source": [
    "print(df)"
   ]
  },
  {
   "cell_type": "code",
   "execution_count": 121,
   "id": "0b82f25c",
   "metadata": {},
   "outputs": [],
   "source": [
    "# Extract text data from the list of dictionaries\n",
    "texts = [d['text'] for d in dataset]\n",
    "\n",
    "# Tokenize the text data\n",
    "tokenized_dataset = [doc.split() for doc in texts]\n",
    "\n",
    "# Train Word2Vec model\n",
    "word2vec_model = Word2Vec(sentences=tokenized_dataset, vector_size=100, window=5, min_count=1, workers=4)\n"
   ]
  },
  {
   "cell_type": "code",
   "execution_count": 127,
   "id": "5cc55be5",
   "metadata": {},
   "outputs": [],
   "source": [
    "X = np.array([np.mean([word2vec_model.wv[word] for word in text.split() if word in word2vec_model.wv], axis=0) for text in texts])\n",
    "\n"
   ]
  },
  {
   "cell_type": "code",
   "execution_count": 129,
   "id": "2e9b39da",
   "metadata": {},
   "outputs": [
    {
     "name": "stderr",
     "output_type": "stream",
     "text": [
      "C:\\Users\\madba\\anaconda3\\Lib\\site-packages\\sklearn\\cluster\\_kmeans.py:1412: FutureWarning: The default value of `n_init` will change from 10 to 'auto' in 1.4. Set the value of `n_init` explicitly to suppress the warning\n",
      "  super()._check_params_vs_input(X, default_n_init=10)\n",
      "C:\\Users\\madba\\anaconda3\\Lib\\site-packages\\sklearn\\cluster\\_kmeans.py:1436: UserWarning: KMeans is known to have a memory leak on Windows with MKL, when there are less chunks than available threads. You can avoid it by setting the environment variable OMP_NUM_THREADS=1.\n",
      "  warnings.warn(\n"
     ]
    },
    {
     "name": "stdout",
     "output_type": "stream",
     "text": [
      "Document                                             Predicted Cluster\n",
      "-------------------------------------------------  -------------------\n",
      "['i', 'love', 'play', 'footbal', 'weekend']                          0\n",
      "['i', 'enjoy', 'hike', 'camp', 'mountain']                           0\n",
      "['i', 'like', 'read', 'book', 'watch', 'movi']                       1\n",
      "['i', 'prefer', 'play', 'video', 'game', 'sport']                    0\n",
      "['i', 'love', 'listen', 'music', 'go', 'concert']                    1\n"
     ]
    }
   ],
   "source": [
    "k = 2  # Define the number of clusters\n",
    "km = KMeans(n_clusters=k)\n",
    "km.fit(X)\n",
    "# Predict the clusters for each document\n",
    "y_pred = km.predict(X)\n",
    "# Tabulate the document and predicted cluster\n",
    "table_data = [[\"Document\", \"Predicted Cluster\"]]\n",
    "table_data.extend([[doc, cluster] for doc, cluster in zip(df['clean_lemmatized2'], y_pred)])\n",
    "print(tabulate(table_data, headers=\"firstrow\"))\n"
   ]
  },
  {
   "cell_type": "code",
   "execution_count": 130,
   "id": "6748a807",
   "metadata": {},
   "outputs": [
    {
     "name": "stdout",
     "output_type": "stream",
     "text": [
      "Purity: 0.6\n"
     ]
    }
   ],
   "source": [
    "# Calculate purity\n",
    "total_samples = len(y_pred)\n",
    "cluster_label_counts = [Counter(y_pred)]\n",
    "purity = sum(max(cluster.values()) for cluster in cluster_label_counts) / total_samples\n",
    "print(\"Purity:\", purity)\n"
   ]
  },
  {
   "cell_type": "markdown",
   "id": "23aba3ec",
   "metadata": {},
   "source": [
    "this one has the same value"
   ]
  },
  {
   "cell_type": "markdown",
   "id": "09ff258e",
   "metadata": {},
   "source": [
    "Exercise question 2"
   ]
  },
  {
   "cell_type": "code",
   "execution_count": 145,
   "id": "dd4ed22d",
   "metadata": {},
   "outputs": [],
   "source": [
    "from sklearn.cluster import KMeans\n",
    "from sklearn.feature_extraction.text import TfidfVectorizer\n",
    "from tabulate import tabulate\n",
    "from collections import Counter\n",
    "import pandas as pd"
   ]
  },
  {
   "cell_type": "code",
   "execution_count": 146,
   "id": "4fe2727b",
   "metadata": {},
   "outputs": [],
   "source": [
    "# Load the data again\n",
    "df = pd.read_csv('customer_complaints_1.csv')"
   ]
  },
  {
   "cell_type": "code",
   "execution_count": 147,
   "id": "6af2d48e",
   "metadata": {},
   "outputs": [],
   "source": [
    "# Step 2: Choose the \"Text\" column for clustering\n",
    "text_column = 'Text'"
   ]
  },
  {
   "cell_type": "code",
   "execution_count": 148,
   "id": "c43174a9",
   "metadata": {},
   "outputs": [],
   "source": [
    "# Vectorize the text data using TF-IDF\n",
    "vectorizer = TfidfVectorizer()\n",
    "X = vectorizer.fit_transform(df['text'])\n"
   ]
  },
  {
   "cell_type": "code",
   "execution_count": 149,
   "id": "03ea6a51",
   "metadata": {},
   "outputs": [],
   "source": [
    "k = 3"
   ]
  },
  {
   "cell_type": "code",
   "execution_count": 150,
   "id": "fe43c8ea",
   "metadata": {},
   "outputs": [
    {
     "name": "stderr",
     "output_type": "stream",
     "text": [
      "C:\\Users\\madba\\anaconda3\\Lib\\site-packages\\sklearn\\cluster\\_kmeans.py:1412: FutureWarning: The default value of `n_init` will change from 10 to 'auto' in 1.4. Set the value of `n_init` explicitly to suppress the warning\n",
      "  super()._check_params_vs_input(X, default_n_init=10)\n"
     ]
    },
    {
     "data": {
      "text/html": [
       "<style>#sk-container-id-4 {color: black;}#sk-container-id-4 pre{padding: 0;}#sk-container-id-4 div.sk-toggleable {background-color: white;}#sk-container-id-4 label.sk-toggleable__label {cursor: pointer;display: block;width: 100%;margin-bottom: 0;padding: 0.3em;box-sizing: border-box;text-align: center;}#sk-container-id-4 label.sk-toggleable__label-arrow:before {content: \"▸\";float: left;margin-right: 0.25em;color: #696969;}#sk-container-id-4 label.sk-toggleable__label-arrow:hover:before {color: black;}#sk-container-id-4 div.sk-estimator:hover label.sk-toggleable__label-arrow:before {color: black;}#sk-container-id-4 div.sk-toggleable__content {max-height: 0;max-width: 0;overflow: hidden;text-align: left;background-color: #f0f8ff;}#sk-container-id-4 div.sk-toggleable__content pre {margin: 0.2em;color: black;border-radius: 0.25em;background-color: #f0f8ff;}#sk-container-id-4 input.sk-toggleable__control:checked~div.sk-toggleable__content {max-height: 200px;max-width: 100%;overflow: auto;}#sk-container-id-4 input.sk-toggleable__control:checked~label.sk-toggleable__label-arrow:before {content: \"▾\";}#sk-container-id-4 div.sk-estimator input.sk-toggleable__control:checked~label.sk-toggleable__label {background-color: #d4ebff;}#sk-container-id-4 div.sk-label input.sk-toggleable__control:checked~label.sk-toggleable__label {background-color: #d4ebff;}#sk-container-id-4 input.sk-hidden--visually {border: 0;clip: rect(1px 1px 1px 1px);clip: rect(1px, 1px, 1px, 1px);height: 1px;margin: -1px;overflow: hidden;padding: 0;position: absolute;width: 1px;}#sk-container-id-4 div.sk-estimator {font-family: monospace;background-color: #f0f8ff;border: 1px dotted black;border-radius: 0.25em;box-sizing: border-box;margin-bottom: 0.5em;}#sk-container-id-4 div.sk-estimator:hover {background-color: #d4ebff;}#sk-container-id-4 div.sk-parallel-item::after {content: \"\";width: 100%;border-bottom: 1px solid gray;flex-grow: 1;}#sk-container-id-4 div.sk-label:hover label.sk-toggleable__label {background-color: #d4ebff;}#sk-container-id-4 div.sk-serial::before {content: \"\";position: absolute;border-left: 1px solid gray;box-sizing: border-box;top: 0;bottom: 0;left: 50%;z-index: 0;}#sk-container-id-4 div.sk-serial {display: flex;flex-direction: column;align-items: center;background-color: white;padding-right: 0.2em;padding-left: 0.2em;position: relative;}#sk-container-id-4 div.sk-item {position: relative;z-index: 1;}#sk-container-id-4 div.sk-parallel {display: flex;align-items: stretch;justify-content: center;background-color: white;position: relative;}#sk-container-id-4 div.sk-item::before, #sk-container-id-4 div.sk-parallel-item::before {content: \"\";position: absolute;border-left: 1px solid gray;box-sizing: border-box;top: 0;bottom: 0;left: 50%;z-index: -1;}#sk-container-id-4 div.sk-parallel-item {display: flex;flex-direction: column;z-index: 1;position: relative;background-color: white;}#sk-container-id-4 div.sk-parallel-item:first-child::after {align-self: flex-end;width: 50%;}#sk-container-id-4 div.sk-parallel-item:last-child::after {align-self: flex-start;width: 50%;}#sk-container-id-4 div.sk-parallel-item:only-child::after {width: 0;}#sk-container-id-4 div.sk-dashed-wrapped {border: 1px dashed gray;margin: 0 0.4em 0.5em 0.4em;box-sizing: border-box;padding-bottom: 0.4em;background-color: white;}#sk-container-id-4 div.sk-label label {font-family: monospace;font-weight: bold;display: inline-block;line-height: 1.2em;}#sk-container-id-4 div.sk-label-container {text-align: center;}#sk-container-id-4 div.sk-container {/* jupyter's `normalize.less` sets `[hidden] { display: none; }` but bootstrap.min.css set `[hidden] { display: none !important; }` so we also need the `!important` here to be able to override the default hidden behavior on the sphinx rendered scikit-learn.org. See: https://github.com/scikit-learn/scikit-learn/issues/21755 */display: inline-block !important;position: relative;}#sk-container-id-4 div.sk-text-repr-fallback {display: none;}</style><div id=\"sk-container-id-4\" class=\"sk-top-container\"><div class=\"sk-text-repr-fallback\"><pre>KMeans(n_clusters=3)</pre><b>In a Jupyter environment, please rerun this cell to show the HTML representation or trust the notebook. <br />On GitHub, the HTML representation is unable to render, please try loading this page with nbviewer.org.</b></div><div class=\"sk-container\" hidden><div class=\"sk-item\"><div class=\"sk-estimator sk-toggleable\"><input class=\"sk-toggleable__control sk-hidden--visually\" id=\"sk-estimator-id-4\" type=\"checkbox\" checked><label for=\"sk-estimator-id-4\" class=\"sk-toggleable__label sk-toggleable__label-arrow\">KMeans</label><div class=\"sk-toggleable__content\"><pre>KMeans(n_clusters=3)</pre></div></div></div></div></div>"
      ],
      "text/plain": [
       "KMeans(n_clusters=3)"
      ]
     },
     "execution_count": 150,
     "metadata": {},
     "output_type": "execute_result"
    }
   ],
   "source": [
    "# Create a k-means model and fit it to the data\n",
    "km = KMeans(n_clusters=k)\n",
    "km.fit(X)"
   ]
  },
  {
   "cell_type": "code",
   "execution_count": 151,
   "id": "5f749af9",
   "metadata": {},
   "outputs": [],
   "source": [
    "# Predict the clusters for each document\n",
    "y_pred = km.predict(X)"
   ]
  },
  {
   "cell_type": "code",
   "execution_count": 152,
   "id": "77f046c0",
   "metadata": {},
   "outputs": [
    {
     "name": "stdout",
     "output_type": "stream",
     "text": [
      "Document                                                                                                                                                                                                                                                                                                                                                                                                                                                                                                                                                                                                                                                                                                                                                                                                                                                                                                                                                                                                                                                                                                                                                                                                                                                                                                                                                                                                                                                                                                                                                                                                                                                                                                                                                                                                                                                                                                                                                                                                                                                                                                                                                                                                                                                                                                                                                                                                                                                                                                                                                                                                                                                                                                                                                                                                                                                                                                                                                                                                                                                                                                                                                                                                                                                                                                                                                                                                                                                                                                                                                                             Predicted Cluster\n",
      "---------------------------------------------------------------------------------------------------------------------------------------------------------------------------------------------------------------------------------------------------------------------------------------------------------------------------------------------------------------------------------------------------------------------------------------------------------------------------------------------------------------------------------------------------------------------------------------------------------------------------------------------------------------------------------------------------------------------------------------------------------------------------------------------------------------------------------------------------------------------------------------------------------------------------------------------------------------------------------------------------------------------------------------------------------------------------------------------------------------------------------------------------------------------------------------------------------------------------------------------------------------------------------------------------------------------------------------------------------------------------------------------------------------------------------------------------------------------------------------------------------------------------------------------------------------------------------------------------------------------------------------------------------------------------------------------------------------------------------------------------------------------------------------------------------------------------------------------------------------------------------------------------------------------------------------------------------------------------------------------------------------------------------------------------------------------------------------------------------------------------------------------------------------------------------------------------------------------------------------------------------------------------------------------------------------------------------------------------------------------------------------------------------------------------------------------------------------------------------------------------------------------------------------------------------------------------------------------------------------------------------------------------------------------------------------------------------------------------------------------------------------------------------------------------------------------------------------------------------------------------------------------------------------------------------------------------------------------------------------------------------------------------------------------------------------------------------------------------------------------------------------------------------------------------------------------------------------------------------------------------------------------------------------------------------------------------------------------------------------------------------------------------------------------------------------------------------------------------------------------------------------------------------------------------------------------------------  -------------------\n",
      "I used to love Comcast. Until all these constant updates. My internet and cable crash a lot at night, and sometimes during the day, some channels don't even work and on demand sometimes don't play either. I wish they will do something about it. Because just a few mins ago, the internet have crashed for about 20 mins for no reason. I'm tired of it and thinking about switching to Wow or something. Please do not get Xfinity.                                                                                                                                                                                                                                                                                                                                                                                                                                                                                                                                                                                                                                                                                                                                                                                                                                                                                                                                                                                                                                                                                                                                                                                                                                                                                                                                                                                                                                                                                                                                                                                                                                                                                                                                                                                                                                                                                                                                                                                                                                                                                                                                                                                                                                                                                                                                                                                                                                                                                                                                                                                                                                                                                                                                                                                                                                                                                                                                                                                                                                                                                                                                                            2\n",
      "I'm so over Comcast! The worst internet provider. I'm taking online classes and multiple times was late with my assignments because of the power interruptions in my area that lead to poor quality internet service. Definitely switching to Verizon. I'd rather pay $10 extra then dealing w/ Comcast and non stopping internet problems.                                                                                                                                                                                                                                                                                                                                                                                                                                                                                                                                                                                                                                                                                                                                                                                                                                                                                                                                                                                                                                                                                                                                                                                                                                                                                                                                                                                                                                                                                                                                                                                                                                                                                                                                                                                                                                                                                                                                                                                                                                                                                                                                                                                                                                                                                                                                                                                                                                                                                                                                                                                                                                                                                                                                                                                                                                                                                                                                                                                                                                                                                                                                                                                                                                                          0\n",
      "If I could give them a negative star or no stars on this review I would. I have never worked with any industry with as bad of customer service as Comcast. It is not a matter of money because I make well enough above and beyond to afford their services but they are a legitimate ripoff. I think they are the biggest scam of since the mortgage industry's major meltdown and I hope I move somewhere where Comcast does not exist. The disregard to want to help or do the right thing is honestly astounding. If you have to call, which you do FOR ALL ISSUES - billing, connection/service, adding or removing service, errors, it does not matter you will be transferred minimum of 4 times. Everyone says the same thing and passes the issues to the next person and no one resolves the problem.They offer promotional packages in small timeframes and can never access them again so they then upgrade you without you wishing and change your billing. It has been 5 months and I have been overcharged $40 a month since I started with them. The blatant rudeness that must make you qualified to do this job is the type of quality service that gets you this review. So... Dear Comcast, you suck. Sincerely, a customer who cannot wait to never use your service again.                                                                                                                                                                                                                                                                                                                                                                                                                                                                                                                                                                                                                                                                                                                                                                                                                                                                                                                                                                                                                                                                                                                                                                                                                                                                                                                                                                                                                                                                                                                                                                                                                                                                                                                                                                                                                                                                                                                                                                                                                                                                                                                                                                                                                                                                                                     1\n",
      "I've had the worst experiences so far since install on 10/4/16. Nothing but problems. Two no shows on scheduled service appointments, extreme difficulty in adding boxes to the second floor. What is so difficult about adding boxes to an existing account? No thank you, I'm not starting a second account for the second floor of the same house! A separate bundle package? All I wanted was just to add a few boxes. Apparently this is not possible. Well then, I guess it's not possible to remain a customer!                                                                                                                                                                                                                                                                                                                                                                                                                                                                                                                                                                                                                                                                                                                                                                                                                                                                                                                                                                                                                                                                                                                                                                                                                                                                                                                                                                                                                                                                                                                                                                                                                                                                                                                                                                                                                                                                                                                                                                                                                                                                                                                                                                                                                                                                                                                                                                                                                                                                                                                                                                                                                                                                                                                                                                                                                                                                                                                                                                                                                                                                               1\n",
      "Check your contract when you sign up for Comcast as their advertised offers do not match the contract they issue. I signed up for $49.99 150Mbps internet for 2 years, however my contract has $19.99 for 25Mbps internet for 2 years. They say there is an add on in place for $30 which boost it to Blast! Pro, however this isn't part of the contract, which means that Comcast can increase the price whenever they want within the 2 years. This means I haven't received the advertised rate. Comcast has so far refused to issue corrected contract, or issue in writing that the $30 will remain at that price for 2 years. I just have to trust them. So watch out, Comcast is doing the usual illegal practices, I'm guessing to catch people out and hope they don't notice and end up paying more than they should.                                                                                                                                                                                                                                                                                                                                                                                                                                                                                                                                                                                                                                                                                                                                                                                                                                                                                                                                                                                                                                                                                                                                                                                                                                                                                                                                                                                                                                                                                                                                                                                                                                                                                                                                                                                                                                                                                                                                                                                                                                                                                                                                                                                                                                                                                                                                                                                                                                                                                                                                                                                                                                                                                                                                                                     1\n",
      "Thank God. I am changing to Dish. They gave me awesome pricing and super people to deal with. You can actually understand what they are saying. I'm so excited to finally be able to return this equipment although still haven't received the home security yet as promised 4 times. Go to h*ll Comcast. You have made me miserable and cause me to miss many hours of work with your promises.                                                                                                                                                                                                                                                                                                                                                                                                                                                                                                                                                                                                                                                                                                                                                                                                                                                                                                                                                                                                                                                                                                                                                                                                                                                                                                                                                                                                                                                                                                                                                                                                                                                                                                                                                                                                                                                                                                                                                                                                                                                                                                                                                                                                                                                                                                                                                                                                                                                                                                                                                                                                                                                                                                                                                                                                                                                                                                                                                                                                                                                                                                                                                                                                     1\n",
      "I Have been a long time customer and only have Xfinity as my ISP for a while now. While I was in the local Walmart on November 4, 2016, there were customer representatives from Xfinity running promotions for and in the Salt Lake City area. Spoke with a representative and was able to get and signed a contract for Pro Blast at $50.00 a month with no contract or early termination fees. I received an email from Xfinity stating the changes that would be made to my account. It stated that not only would it be under contract for 24 months but there would be early termination fees. This is not what I had originally signed up for and it specifically states this on the contract that I signed. Contacted Xfinity customer service and was told since they cannot see the contract over the phone that I would need to go to Xfinity store in person. Went to Xfinity store on November 8, 2016 and was told that it would be under contract and there was no way around it. Because of this I have cancelled the upgrade and went back to my original plan. It's plain and simple. When a contract is signed it should be honored for what is stated on it. Xfinity is dishonest and not trustworthy. Therefore I will be looking and changing my ISP as soon as possible to another company. Xfinity does not deserve a paycheck from me or anyone else that I know.                                                                                                                                                                                                                                                                                                                                                                                                                                                                                                                                                                                                                                                                                                                                                                                                                                                                                                                                                                                                                                                                                                                                                                                                                                                                                                                                                                                                                                                                                                                                                                                                                                                                                                                                                                                                                                                                                                                                                                                                                                                                                                                                                                                                           1\n",
      "There is a malfunction on the DVR manager which is preventing us from adding more recordings. Customer service is fairly certain that the problem is from the signal from their system to ours, but protocol demands that they access our home before investigating that option. Since we work, that cannot be done until next Saturday. Customer service tech agreed that this seems illogical since logic would dictate that one would investigate the most probably malfunction first, but insists they must follow protocol. This is extremely frustrating. After 35 years as a customer of Comcast & their predecessors, I am investigating alternatives.                                                                                                                                                                                                                                                                                                                                                                                                                                                                                                                                                                                                                                                                                                                                                                                                                                                                                                                                                                                                                                                                                                                                                                                                                                                                                                                                                                                                                                                                                                                                                                                                                                                                                                                                                                                                                                                                                                                                                                                                                                                                                                                                                                                                                                                                                                                                                                                                                                                                                                                                                                                                                                                                                                                                                                                                                                                                                                                                       1\n",
      "Charges overwhelming. Comcast service rep was so ignorant and rude when I call to resolve my issue with my bill. I emailed Tom ** his rep was rude to me. None of the representative was helpful. They all just pass me on to other people. I am cutting my service with Comcast.                                                                                                                                                                                                                                                                                                                                                                                                                                                                                                                                                                                                                                                                                                                                                                                                                                                                                                                                                                                                                                                                                                                                                                                                                                                                                                                                                                                                                                                                                                                                                                                                                                                                                                                                                                                                                                                                                                                                                                                                                                                                                                                                                                                                                                                                                                                                                                                                                                                                                                                                                                                                                                                                                                                                                                                                                                                                                                                                                                                                                                                                                                                                                                                                                                                                                                                    0\n",
      "I have had cable, DISH, and U-verse, etc. in the past. All are eh... but you know what? Comcast takes the cake. I have never been driven to take time out of my day just to gripe online for all to see. But consumers, stay away! So my first terrible experience with Comcast is that they took 5 phones and 2 months to come out and bury the lines they had to lay in my front yard to get the cable needed into my house. Finally got someone when my special needs neighbor tripped and fell!Now 3 months into my contract, I have had my internet, phone, and TV go out for HOURS at a time. I would spend 3 hours on with a tech when it will come back up after the technician resets the router manually for the 3rd or 4th time. I have had it, I work from home occasionally and this is a huge inconvenience! The hardware is faulty, I understand that sometimes you get a lemon... but 3 months! 3 months! I have had it. Worst company ever. Crappy equipment and terrible customer service, and worse is the technicians they hire! Not a clue! Comcast should send a technician out here to switch out this equipment before I set a bonfire to it.                                                                                                                                                                                                                                                                                                                                                                                                                                                                                                                                                                                                                                                                                                                                                                                                                                                                                                                                                                                                                                                                                                                                                                                                                                                                                                                                                                                                                                                                                                                                                                                                                                                                                                                                                                                                                                                                                                                                                                                                                                                                                                                                                                                                                                                                                                                                                                                                                                1\n",
      "Had them from 2014 to now. I'd tell new customers to run but there is nowhere to run to. I tried, but it turned out Comcast was Xfinity. Signing up for a contract has no meaning. The fine print in the contract that they suggest you read when they randomly change a contract says they can change anything anytime and are not doing anything wrong. I disagree. I have or had performance pro, paying for a speed of internet a month under a contract. Not month to month alone. The speed is not listed or told to you just it's between 25 and 50.I got a letter Friday saying Tue (today) I'm being forced into a new contract plan. I'm now paying for my data at the same speed with a cap of a terabyte. Seems like a lot but it's not and not what I signed up for. But all customer service says is that's the deal now. They don't offer plans by just speed it's changed. Those who use more Internet should pay more. It's not fair to the other customers. What does it matter fair it's what we signed up to use. I use firestick. We stream everything all day. It's frustrating. They kept saying it's the same, but if I use more just go to the unlimited plan for only $50 more. I don't have 150$. It's why we got rid of direcTV for firestick. Paying for an unlimited speed to being changed to pay for data is a huge difference. All they can say is, \"You won't know there was a change unless you go over 1000. The closest you got so far was 980 and we won't charge you for going over the first 2 months to get used to it.\" When I first went to talk to someone at the store they didn't want to talk to me and told me I needed to call billing. They don't know about it. How can they not help or explain if we pay bills there and get equipment there. After a minute the guy called someone over who is good at explaining the letter. So now they know about the letter and someone can explain it. They just didn't want to deal with it in the store. So the other guy comes over and lies to us as well. Tells us the letter got sent to everyone but is only for new customers, not us. Whatever I know it's all a lie. We leave and today I call Comcast. As soon as you call it asks if you are calling about your data. Say yes and it directs the call to someone who only knows to say, \"Read your contract and there is nothing you can do.\" They don't know anything. You need billing. Then why did it put the call to somewhere that can't help. It's the run around. The last guy I talked to is what is above. How can they be the only internet around. So I'm forced to pay by data now and I don't even get a better speed for being gypped. It's also wrong - I only got notified Friday. That Tuesday Nov 1st the change takes effect.                                                                                                                                                                                                                                                                                                                                                                                                                                                                                                                                                                                                                                                                                                                                                                                             1\n",
      "Disappointed. I have been a Comcast/Xfinity customer for almost two decades. I pay for high speeds and get intermittent internet. I call every week almost-- can't take the time to call more often and get FRUSTRATED. I spend 30 minutes with the first person resetting the modem (walking through their initial process - even after giving them the history) only to be told I will have to pay for a technician. After some complaining and explaining - they transfer me to a specialist who does speed tests and confirms what I am saying even though their test \"say\" the modem is working - he test each port on the modem (which is a new modem they replaced last week) and I have the same issue - tells me there is a line issue and my modem isn't performing correctly - technician reprograms the ports--retests it works awesome initially when they get it to carry more data--only to retest with the technician a few minutes later and the speed is low again. They say they need to send out a tech to look at the lines - COLD transfer me back to Xfinity without warning and when someone answers they start the process ALL OVER AGAIN - reset the modem charge me for tech - transfer me to specialist - another 3 hours wasted this week, last week - in this modern age and for $216 a month you would think you could work from home without distractions. I pay for the fastest package 115 mbps download and 25 mbps upload and receive random speeds throughout the day (between 9-80 mbps download and 2-22 mbps) upload - most often in the lower numbers with wireless monitoring showing \"dropped\" messages from my server and having to refresh pages and lose data regularly. Is there anyone out there who can help? I am attaching several speed tests from today during my calls between 10-12 a.m cst. What does a consumer do? Is there a dependable internet provider? It feels like they use their call systems to bully/frustrate the customer into submission.                                                                                                                                                                                                                                                                                                                                                                                                                                                                                                                                                                                                                                                                                                                                                                                                                                                                                                                                                                                                                                                                                                                                                                                                                                                                                                                                                                                                                                                                                                                                                                                     1\n",
      "These people are unethical and disturbing oblivious to their customers needs. The internet speed tears are constantly changing and customers are being charged as the internet speeds change. For instance, when their \"blast\" service was first commissioned by me it was stated by Comcast that it was 100 Mbps. Now I see a $10.00 increase in my bill after 6 months and when speaking to a customer rep was told that it was not 100 Mbps but 75 Mbps and the blast in which I have had for 6 months plus was in fact 75 Mbps. The have added $10.00 to my bill for a service I already had. I told them to take it off and give me the 75 Mbps without the \"blast\" which I was told that it would put me to 25 Mbps. I will be shopping for another service. The end.                                                                                                                                                                                                                                                                                                                                                                                                                                                                                                                                                                                                                                                                                                                                                                                                                                                                                                                                                                                                                                                                                                                                                                                                                                                                                                                                                                                                                                                                                                                                                                                                                                                                                                                                                                                                                                                                                                                                                                                                                                                                                                                                                                                                                                                                                                                                                                                                                                                                                                                                                                                                                                                                                                                                                                                                                          1\n",
      "Unplanned, unexpected, all day outages, rude service reps. Rearranging my day to set up service only to deal with a totally inept technician who has to call for backup on another day. I could go on, but why? We are dropping this failure of a company and relying on hotspots from now on.                                                                                                                                                                                                                                                                                                                                                                                                                                                                                                                                                                                                                                                                                                                                                                                                                                                                                                                                                                                                                                                                                                                                                                                                                                                                                                                                                                                                                                                                                                                                                                                                                                                                                                                                                                                                                                                                                                                                                                                                                                                                                                                                                                                                                                                                                                                                                                                                                                                                                                                                                                                                                                                                                                                                                                                                                                                                                                                                                                                                                                                                                                                                                                                                                                                                                                       0\n",
      "BE WARNED. You will have 10$ hidden fees when you sign up for this service. They charge you extra for the local news stations and a fee for local sports that you will not be told about until you see it on your first bill. The customer service people are a JOKE and rude rude rude. If you ask for a manager they will get snotty and never let you talk to one... I know they have attractive packages to get you hooked but it's a joke and you will pay more in the long run than the competitors.                                                                                                                                                                                                                                                                                                                                                                                                                                                                                                                                                                                                                                                                                                                                                                                                                                                                                                                                                                                                                                                                                                                                                                                                                                                                                                                                                                                                                                                                                                                                                                                                                                                                                                                                                                                                                                                                                                                                                                                                                                                                                                                                                                                                                                                                                                                                                                                                                                                                                                                                                                                                                                                                                                                                                                                                                                                                                                                                                                                                                                                                                           1\n",
      "Had Comcast. Overall the terrible experience everyone else is describing but there was no other provider in my area at the time, so we just dealt with it. Ultimately moved out of my apartment to an area that was serviced by other providers, so I called to cancel my account. Took forever, but finally get through, and take my hardware back to the store. KEEP YOUR RECEIPT. Had to deal with a debt collector for 9 months claiming I owed money for not returning the hardware. Luckily I had physical proof. I honestly would have just paid the $60 or whatever it was if I wasn't sure they'd just keep calling. Would deny liability, it would get kicked to a different debt collection agency, someone new would call me a few months later. FINALLY went away, but I will never use Comcast again. The best part is that when I'd call for customer service, they would \"accidentally\" disconnect my call. HINT: If you want to cancel services or complain, choose the option on the customer service menu for \"add more services.\" They'll connect you to an agent immediately and you can ultimately get them to connect you to the right department directly. They'll probably still disconnect you a few times though.                                                                                                                                                                                                                                                                                                                                                                                                                                                                                                                                                                                                                                                                                                                                                                                                                                                                                                                                                                                                                                                                                                                                                                                                                                                                                                                                                                                                                                                                                                                                                                                                                                                                                                                                                                                                                                                                                                                                                                                                                                                                                                                                                                                                                                                                                                                                                         1\n",
      "When I called the infinity customer service center to complain about the new slow performance speed the first question customer service asked was \"How fast is it now and why didn't you buy the previous offer for the faster service.\" I responded with \"What speed is my plan am I paying for now.\" I explained to customer service the actual test was less than half that. The customer service rep said she would resend a signal to my router. No improved speed occurred. I turned on my hotspot on my cell phone to file this complaint. I am getting screw from Comcast/Xfinity. My internet speed is not what I pay for.                                                                                                                                                                                                                                                                                                                                                                                                                                                                                                                                                                                                                                                                                                                                                                                                                                                                                                                                                                                                                                                                                                                                                                                                                                                                                                                                                                                                                                                                                                                                                                                                                                                                                                                                                                                                                                                                                                                                                                                                                                                                                                                                                                                                                                                                                                                                                                                                                                                                                                                                                                                                                                                                                                                                                                                                                                                                                                                                                                  1\n",
      "Outraged, that it should not take a month to get internet service! We contacted Comcast the 1st week of October for internet service. We was lucky to have a tech come out the same week. When he came he informed us he could not do the installation due to our residence being brand new and there wasn't any type of line of cable to set it. We was told he would have to call a special tech to schedule a date the week after for him to do a burial for a line. The next week came a different tech came out said he couldn't do anything cause there needed to be a burial for the line. We told him the last guy said that and really we thought he was here to do the burial. He told us he was just a guy to set up installation for the modem. He informed us he would drop a line for this special tech to do a burial line and we would soon have our internet up and running by the next week. The same day our neighbours apparently was getting internet with Comcast as well. Their tech stole our line to hook up their internet and cable. We called the tech that came out that day who dropped the line and told him what happened. He ensured us it was ok and the special tech would drop another line when he comes out for the burial. The next week came Monday the tech was scheduled he never showed. We called Comcast. They told us they got behind and someone would come out Tuesday. Tuesday morning a tech came by told us he couldn't do anything. We needed a burial. We told him our story. He called his boss and told us there would be someone to come out to do a burial that same day. Well no one showed up. Here it is Thursday of the same week. I was on the phone with Comcast for almost 2 hrs this morning for them to tell us there will be another tech out on the 31st to a burial and set up installation and he is sorry he's just trying to give us options. Well the truth is there is no other options. No other internet service will provide us with service because of Comcast being in our area on Murfreesboro, TN. I'm stuck with Comcast. I have 3 children with game systems, phones and tablets. Not to mention now a days schools are switching to Apps for kids to do their homework on. Internet is becoming more of a need and not a want. So if it wasn't for my children I wouldn't be getting Comcast. And if there was another service I could get I would definitely be without Comcast. I've had their service in the past. The worst part about having them is their customer service. The bills do tend to go up in price without them informing you and I've had our service not work at times to where I had to reset the modem almost everyday. They need to do a better job with handling issues with customers that's spending money with their company.                                                                                                                                                                                                                                                                                                                                                                                                                                                                                                                                                                                                                                                                                                                                                        1\n",
      "We got Xfinity on the first of July 2016. In the first week and a half, our internet was out, hours at a time, every single day. The first rep that was sent out to fix it said he didn't feel comfortable going in our crawl space so he told me I should reschedule another rep to come out. When I called to reschedule another rep, I learned that the rep that had been there that day, put in his notes that he changed out the splitter and fixed the problem. A couple of days later I had another rep come out with a trainee. They ran a bunch of test, but eventually fixed the problem... until I decided to add tv and security to my package with XFINITY. BIG MISTAKE!! With Comcast/XFINITY everything works off their internet. Cable and security all work off your internet connection. It's the worst setup I have ever encountered. If your internet goes out, not only do you not have internet, but you no longer have cable or security. Anyway, I added the cable and security package a little over a month ago. In this time, at least 2 days out of the week I have gone several hours at a time without internet, and thus, without security and cable as well. The last couple of nights have been the worst! Yesterday internet went out sometime while I was at work in the morning and didn't come back on until after 9 pm last night. Then it went out again sometime in the middle of the night and hasn't been on since. It is now 10:37 pm and I'm still without the services I pay for! XFINITY field tech are some of the worst I have ever encountered. When the tech came out to install cable and security he sat on his phone the whole time talking on the phone with buddies. I was suppose to get a Dvr box. I didn't get one. As for security, this bozo sets the door that he put the keypad next to as a door that never gets used, or as they like to call it, a sentry door. I didn't realize that until I tried getting out that door, a couple days later, and went to set the alarm, just to realize that I could not set the alarm from the inside because it would automatically set the alarm off. I had yet another tech come out 4 days later. This tech fixed the problem and in the process realized that a lot of the way my internet, cable and security was wired was not up to code. So he proceeded to \"fix it\" and in the process did something that started my whole very unreliable internet process again. I had another tech come out 3 days later. He checked wire reliability and ensured that all cables were connected tightly, both inside and outside. He even climbed the power pole. He said he found a loose cable, which he tightened, but just to make sure he even dispatched a bucket truck. The bucket truck arrived about an hour later. He went up the pole checked connections and came back down, just to tell me the same thing the previous tech told me. If I would have known this was going to be such a headache, I would have settled for a slower speed internet, paid a little bit more, and went with AT&T. I have had them before and their reliability was a million times better. The main two differences being AT&T works off of a dedicated fiber optics line where as XFINITY/Comcast is still working off of ancient copper wires. And none of AT&T's services piggyback off of any of their other services. They're all separate dedicated services, whereas All of XFINITY services rely on the internet connection. If the internet goes out, everything goes out.                    1\n"
     ]
    }
   ],
   "source": [
    "# Display the document and its predicted cluster in a table\n",
    "table_data = [[\"Document\", \"Predicted Cluster\"]]\n",
    "table_data.extend([[doc, cluster] for doc, cluster in zip(df['text'], y_pred)])\n",
    "print(tabulate(table_data, headers=\"firstrow\"))"
   ]
  },
  {
   "cell_type": "code",
   "execution_count": 153,
   "id": "56566100",
   "metadata": {},
   "outputs": [
    {
     "name": "stdout",
     "output_type": "stream",
     "text": [
      "\n",
      "Top terms per cluster:\n",
      "Cluster 0:\n",
      " to\n",
      " rude\n",
      " my\n",
      " service\n",
      " was\n",
      " on\n",
      " day\n",
      " with\n",
      " comcast\n",
      " rep\n",
      "\n",
      "Cluster 1:\n",
      " the\n",
      " to\n",
      " and\n",
      " for\n",
      " you\n",
      " is\n",
      " it\n",
      " they\n",
      " that\n",
      " was\n",
      "\n",
      "Cluster 2:\n",
      " mins\n",
      " sometimes\n",
      " something\n",
      " about\n",
      " don\n",
      " and\n",
      " do\n",
      " either\n",
      " reason\n",
      " crashed\n",
      "\n"
     ]
    }
   ],
   "source": [
    "# Print top terms per cluster\n",
    "print(\"\\nTop terms per cluster:\")\n",
    "order_centroids = km.cluster_centers_.argsort()[:, ::-1]\n",
    "terms = vectorizer.get_feature_names_out()\n",
    "for i in range(k):\n",
    "    print(\"Cluster %d:\" % i)\n",
    "    for ind in order_centroids[i, :10]:\n",
    "        print(' %s' % terms[ind])\n",
    "    print()"
   ]
  },
  {
   "cell_type": "code",
   "execution_count": 154,
   "id": "66c72f30",
   "metadata": {},
   "outputs": [
    {
     "name": "stdout",
     "output_type": "stream",
     "text": [
      "Purity: 0.7894736842105263\n"
     ]
    }
   ],
   "source": [
    "# Calculate purity\n",
    "total_samples = len(y_pred)\n",
    "cluster_label_counts = [Counter(y_pred)]\n",
    "purity = sum(max(cluster.values()) for cluster in cluster_label_counts) / total_samples\n",
    "\n",
    "print(\"Purity:\", purity)"
   ]
  },
  {
   "cell_type": "code",
   "execution_count": 157,
   "id": "d6f82ca9",
   "metadata": {},
   "outputs": [
    {
     "data": {
      "image/png": "[encoded data removed]",
      "text/plain": [
       "<Figure size 800x600 with 1 Axes>"
      ]
     },
     "metadata": {},
     "output_type": "display_data"
    }
   ],
   "source": [
    "import matplotlib.pyplot as plt\n",
    "from sklearn.decomposition import PCA\n",
    "import numpy as np\n",
    "\n",
    "# Reduce dimensionality using PCA for visualization\n",
    "pca = PCA(n_components=2)\n",
    "X_pca = pca.fit_transform(X.toarray())\n",
    "\n",
    "# Plot the predicted clusters\n",
    "plt.figure(figsize=(8, 6))\n",
    "\n",
    "# Generate colors dynamically based on the number of clusters\n",
    "colors = plt.cm.tab10(np.linspace(0, 1, k))\n",
    "\n",
    "for i in range(k):\n",
    "    plt.scatter(X_pca[y_pred == i, 0], X_pca[y_pred == i, 1], c=[colors[i]], label=f'Cluster {i}')\n",
    "\n",
    "plt.title('Predicted Clusters Visualization')\n",
    "plt.xlabel('Principal Component 1')\n",
    "plt.ylabel('Principal Component 2')\n",
    "plt.legend()\n",
    "plt.show()\n"
   ]
  },
  {
   "cell_type": "code",
   "execution_count": null,
   "id": "4b02a9a4",
   "metadata": {},
   "outputs": [],
   "source": []
  }
 ],
 "metadata": {
  "kernelspec": {
   "display_name": "Python 3 (ipykernel)",
   "language": "python",
   "name": "python3"
  },
  "language_info": {
   "codemirror_mode": {
    "name": "ipython",
    "version": 3
   },
   "file_extension": ".py",
   "mimetype": "text/x-python",
   "name": "python",
   "nbconvert_exporter": "python",
   "pygments_lexer": "ipython3",
   "version": "3.11.5"
  }
 },
 "nbformat": 4,
 "nbformat_minor": 5
}
