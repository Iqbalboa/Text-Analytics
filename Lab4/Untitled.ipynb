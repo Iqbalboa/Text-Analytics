{
 "cells": [
  {
   "cell_type": "code",
   "execution_count": 1,
   "id": "f06d0568",
   "metadata": {},
   "outputs": [],
   "source": [
    "import pandas as pd"
   ]
  },
  {
   "cell_type": "code",
   "execution_count": 2,
   "id": "06c42120",
   "metadata": {},
   "outputs": [
    {
     "data": {
      "text/html": [
       "<div>\n",
       "<style scoped>\n",
       "    .dataframe tbody tr th:only-of-type {\n",
       "        vertical-align: middle;\n",
       "    }\n",
       "\n",
       "    .dataframe tbody tr th {\n",
       "        vertical-align: top;\n",
       "    }\n",
       "\n",
       "    .dataframe thead th {\n",
       "        text-align: right;\n",
       "    }\n",
       "</style>\n",
       "<table border=\"1\" class=\"dataframe\">\n",
       "  <thead>\n",
       "    <tr style=\"text-align: right;\">\n",
       "      <th></th>\n",
       "      <th>Review</th>\n",
       "    </tr>\n",
       "  </thead>\n",
       "  <tbody>\n",
       "    <tr>\n",
       "      <th>0</th>\n",
       "      <td>I like this books very much!!! It is VERY INTE...</td>\n",
       "    </tr>\n",
       "    <tr>\n",
       "      <th>1</th>\n",
       "      <td>Do not like this book. so boring 2. Too length...</td>\n",
       "    </tr>\n",
       "  </tbody>\n",
       "</table>\n",
       "</div>"
      ],
      "text/plain": [
       "                                              Review\n",
       "0  I like this books very much!!! It is VERY INTE...\n",
       "1  Do not like this book. so boring 2. Too length..."
      ]
     },
     "execution_count": 2,
     "metadata": {},
     "output_type": "execute_result"
    }
   ],
   "source": [
    "data = pd.read_csv(\"Review.csv\")\n",
    "data"
   ]
  },
  {
   "cell_type": "code",
   "execution_count": 3,
   "id": "748b812c",
   "metadata": {},
   "outputs": [],
   "source": [
    "#import string module for string manipulation\n",
    "import string"
   ]
  },
  {
   "cell_type": "code",
   "execution_count": 4,
   "id": "b122a569",
   "metadata": {},
   "outputs": [
    {
     "data": {
      "text/plain": [
       "'!\"#$%&\\'()*+,-./:;<=>?@[\\\\]^_`{|}~'"
      ]
     },
     "execution_count": 4,
     "metadata": {},
     "output_type": "execute_result"
    }
   ],
   "source": [
    "string.punctuation"
   ]
  },
  {
   "cell_type": "code",
   "execution_count": 5,
   "id": "c9cffc78",
   "metadata": {},
   "outputs": [],
   "source": [
    "def remove_punctuation(text):\n",
    "    #punctuationfree = \"\".join([i for i in text if i not in string.punctuation])\n",
    "    #return punctuationfree\n",
    "    # Initialize an empty string to store the result\n",
    "    punctuation_free = \"\"\n",
    "    \n",
    "    # Iterate over each character in the text\n",
    "    for i in text:\n",
    "        # Check if the character is not in the string.punctuation set\n",
    "        if i not in string.punctuation:\n",
    "            # If not, add the character to the result string\n",
    "            punctuation_free += i\n",
    "    \n",
    "    return punctuation_free"
   ]
  },
  {
   "cell_type": "code",
   "execution_count": 6,
   "id": "56a4879d",
   "metadata": {},
   "outputs": [
    {
     "data": {
      "text/html": [
       "<div>\n",
       "<style scoped>\n",
       "    .dataframe tbody tr th:only-of-type {\n",
       "        vertical-align: middle;\n",
       "    }\n",
       "\n",
       "    .dataframe tbody tr th {\n",
       "        vertical-align: top;\n",
       "    }\n",
       "\n",
       "    .dataframe thead th {\n",
       "        text-align: right;\n",
       "    }\n",
       "</style>\n",
       "<table border=\"1\" class=\"dataframe\">\n",
       "  <thead>\n",
       "    <tr style=\"text-align: right;\">\n",
       "      <th></th>\n",
       "      <th>Review</th>\n",
       "      <th>clean_punctuation</th>\n",
       "    </tr>\n",
       "  </thead>\n",
       "  <tbody>\n",
       "    <tr>\n",
       "      <th>0</th>\n",
       "      <td>I like this books very much!!! It is VERY INTE...</td>\n",
       "      <td>I like this books very much It is VERY INTERES...</td>\n",
       "    </tr>\n",
       "    <tr>\n",
       "      <th>1</th>\n",
       "      <td>Do not like this book. so boring 2. Too length...</td>\n",
       "      <td>Do not like this book so boring 2 Too lengthy</td>\n",
       "    </tr>\n",
       "  </tbody>\n",
       "</table>\n",
       "</div>"
      ],
      "text/plain": [
       "                                              Review  \\\n",
       "0  I like this books very much!!! It is VERY INTE...   \n",
       "1  Do not like this book. so boring 2. Too length...   \n",
       "\n",
       "                                   clean_punctuation  \n",
       "0  I like this books very much It is VERY INTERES...  \n",
       "1     Do not like this book so boring 2 Too lengthy   "
      ]
     },
     "execution_count": 6,
     "metadata": {},
     "output_type": "execute_result"
    }
   ],
   "source": [
    "data['clean_punctuation']= data['Review'].apply(remove_punctuation)\n",
    "data"
   ]
  },
  {
   "cell_type": "code",
   "execution_count": 7,
   "id": "83e74da1",
   "metadata": {},
   "outputs": [
    {
     "data": {
      "text/html": [
       "<div>\n",
       "<style scoped>\n",
       "    .dataframe tbody tr th:only-of-type {\n",
       "        vertical-align: middle;\n",
       "    }\n",
       "\n",
       "    .dataframe tbody tr th {\n",
       "        vertical-align: top;\n",
       "    }\n",
       "\n",
       "    .dataframe thead th {\n",
       "        text-align: right;\n",
       "    }\n",
       "</style>\n",
       "<table border=\"1\" class=\"dataframe\">\n",
       "  <thead>\n",
       "    <tr style=\"text-align: right;\">\n",
       "      <th></th>\n",
       "      <th>Review</th>\n",
       "      <th>clean_punctuation</th>\n",
       "      <th>clean_lower</th>\n",
       "    </tr>\n",
       "  </thead>\n",
       "  <tbody>\n",
       "    <tr>\n",
       "      <th>0</th>\n",
       "      <td>I like this books very much!!! It is VERY INTE...</td>\n",
       "      <td>I like this books very much It is VERY INTERES...</td>\n",
       "      <td>i like this books very much it is very interes...</td>\n",
       "    </tr>\n",
       "    <tr>\n",
       "      <th>1</th>\n",
       "      <td>Do not like this book. so boring 2. Too length...</td>\n",
       "      <td>Do not like this book so boring 2 Too lengthy</td>\n",
       "      <td>do not like this book so boring 2 too lengthy</td>\n",
       "    </tr>\n",
       "  </tbody>\n",
       "</table>\n",
       "</div>"
      ],
      "text/plain": [
       "                                              Review  \\\n",
       "0  I like this books very much!!! It is VERY INTE...   \n",
       "1  Do not like this book. so boring 2. Too length...   \n",
       "\n",
       "                                   clean_punctuation  \\\n",
       "0  I like this books very much It is VERY INTERES...   \n",
       "1     Do not like this book so boring 2 Too lengthy    \n",
       "\n",
       "                                         clean_lower  \n",
       "0  i like this books very much it is very interes...  \n",
       "1     do not like this book so boring 2 too lengthy   "
      ]
     },
     "execution_count": 7,
     "metadata": {},
     "output_type": "execute_result"
    }
   ],
   "source": [
    "data['clean_lower']= data['clean_punctuation'].str.lower()\n",
    "data"
   ]
  },
  {
   "cell_type": "code",
   "execution_count": 8,
   "id": "b7a0e29d",
   "metadata": {},
   "outputs": [],
   "source": [
    "import re"
   ]
  },
  {
   "cell_type": "code",
   "execution_count": 9,
   "id": "70908b25",
   "metadata": {},
   "outputs": [],
   "source": [
    "def remove_numbers(text):\n",
    "    return re.sub(\"[\\d-]\",'',text)"
   ]
  },
  {
   "cell_type": "code",
   "execution_count": 10,
   "id": "d13f30f6",
   "metadata": {},
   "outputs": [
    {
     "data": {
      "text/html": [
       "<div>\n",
       "<style scoped>\n",
       "    .dataframe tbody tr th:only-of-type {\n",
       "        vertical-align: middle;\n",
       "    }\n",
       "\n",
       "    .dataframe tbody tr th {\n",
       "        vertical-align: top;\n",
       "    }\n",
       "\n",
       "    .dataframe thead th {\n",
       "        text-align: right;\n",
       "    }\n",
       "</style>\n",
       "<table border=\"1\" class=\"dataframe\">\n",
       "  <thead>\n",
       "    <tr style=\"text-align: right;\">\n",
       "      <th></th>\n",
       "      <th>Review</th>\n",
       "      <th>clean_punctuation</th>\n",
       "      <th>clean_lower</th>\n",
       "      <th>clean_number</th>\n",
       "    </tr>\n",
       "  </thead>\n",
       "  <tbody>\n",
       "    <tr>\n",
       "      <th>0</th>\n",
       "      <td>I like this books very much!!! It is VERY INTE...</td>\n",
       "      <td>I like this books very much It is VERY INTERES...</td>\n",
       "      <td>i like this books very much it is very interes...</td>\n",
       "      <td>i like this books very much it is very interes...</td>\n",
       "    </tr>\n",
       "    <tr>\n",
       "      <th>1</th>\n",
       "      <td>Do not like this book. so boring 2. Too length...</td>\n",
       "      <td>Do not like this book so boring 2 Too lengthy</td>\n",
       "      <td>do not like this book so boring 2 too lengthy</td>\n",
       "      <td>do not like this book so boring  too lengthy</td>\n",
       "    </tr>\n",
       "  </tbody>\n",
       "</table>\n",
       "</div>"
      ],
      "text/plain": [
       "                                              Review  \\\n",
       "0  I like this books very much!!! It is VERY INTE...   \n",
       "1  Do not like this book. so boring 2. Too length...   \n",
       "\n",
       "                                   clean_punctuation  \\\n",
       "0  I like this books very much It is VERY INTERES...   \n",
       "1     Do not like this book so boring 2 Too lengthy    \n",
       "\n",
       "                                         clean_lower  \\\n",
       "0  i like this books very much it is very interes...   \n",
       "1     do not like this book so boring 2 too lengthy    \n",
       "\n",
       "                                        clean_number  \n",
       "0  i like this books very much it is very interes...  \n",
       "1      do not like this book so boring  too lengthy   "
      ]
     },
     "execution_count": 10,
     "metadata": {},
     "output_type": "execute_result"
    }
   ],
   "source": [
    "data['clean_number'] = data['clean_lower'].apply(remove_numbers)\n",
    "data"
   ]
  },
  {
   "cell_type": "code",
   "execution_count": 11,
   "id": "fb0195f8",
   "metadata": {},
   "outputs": [
    {
     "name": "stderr",
     "output_type": "stream",
     "text": [
      "[nltk_data] Downloading package punkt to\n",
      "[nltk_data]     C:\\Users\\madba\\AppData\\Roaming\\nltk_data...\n",
      "[nltk_data]   Package punkt is already up-to-date!\n"
     ]
    },
    {
     "data": {
      "text/plain": [
       "True"
      ]
     },
     "execution_count": 11,
     "metadata": {},
     "output_type": "execute_result"
    }
   ],
   "source": [
    "import nltk\n",
    "nltk.download('punkt')"
   ]
  },
  {
   "cell_type": "code",
   "execution_count": 12,
   "id": "86a9bba3",
   "metadata": {},
   "outputs": [],
   "source": [
    "from nltk.tokenize import word_tokenize\n"
   ]
  },
  {
   "cell_type": "code",
   "execution_count": 13,
   "id": "e9988a0a",
   "metadata": {},
   "outputs": [
    {
     "data": {
      "text/html": [
       "<div>\n",
       "<style scoped>\n",
       "    .dataframe tbody tr th:only-of-type {\n",
       "        vertical-align: middle;\n",
       "    }\n",
       "\n",
       "    .dataframe tbody tr th {\n",
       "        vertical-align: top;\n",
       "    }\n",
       "\n",
       "    .dataframe thead th {\n",
       "        text-align: right;\n",
       "    }\n",
       "</style>\n",
       "<table border=\"1\" class=\"dataframe\">\n",
       "  <thead>\n",
       "    <tr style=\"text-align: right;\">\n",
       "      <th></th>\n",
       "      <th>Review</th>\n",
       "      <th>clean_punctuation</th>\n",
       "      <th>clean_lower</th>\n",
       "      <th>clean_number</th>\n",
       "      <th>token_data</th>\n",
       "    </tr>\n",
       "  </thead>\n",
       "  <tbody>\n",
       "    <tr>\n",
       "      <th>0</th>\n",
       "      <td>I like this books very much!!! It is VERY INTE...</td>\n",
       "      <td>I like this books very much It is VERY INTERES...</td>\n",
       "      <td>i like this books very much it is very interes...</td>\n",
       "      <td>i like this books very much it is very interes...</td>\n",
       "      <td>[i, like, this, books, very, much, it, is, ver...</td>\n",
       "    </tr>\n",
       "    <tr>\n",
       "      <th>1</th>\n",
       "      <td>Do not like this book. so boring 2. Too length...</td>\n",
       "      <td>Do not like this book so boring 2 Too lengthy</td>\n",
       "      <td>do not like this book so boring 2 too lengthy</td>\n",
       "      <td>do not like this book so boring  too lengthy</td>\n",
       "      <td>[do, not, like, this, book, so, boring, too, l...</td>\n",
       "    </tr>\n",
       "  </tbody>\n",
       "</table>\n",
       "</div>"
      ],
      "text/plain": [
       "                                              Review  \\\n",
       "0  I like this books very much!!! It is VERY INTE...   \n",
       "1  Do not like this book. so boring 2. Too length...   \n",
       "\n",
       "                                   clean_punctuation  \\\n",
       "0  I like this books very much It is VERY INTERES...   \n",
       "1     Do not like this book so boring 2 Too lengthy    \n",
       "\n",
       "                                         clean_lower  \\\n",
       "0  i like this books very much it is very interes...   \n",
       "1     do not like this book so boring 2 too lengthy    \n",
       "\n",
       "                                        clean_number  \\\n",
       "0  i like this books very much it is very interes...   \n",
       "1      do not like this book so boring  too lengthy    \n",
       "\n",
       "                                          token_data  \n",
       "0  [i, like, this, books, very, much, it, is, ver...  \n",
       "1  [do, not, like, this, book, so, boring, too, l...  "
      ]
     },
     "execution_count": 13,
     "metadata": {},
     "output_type": "execute_result"
    }
   ],
   "source": [
    "data['token_data']= data['clean_number'].apply(word_tokenize)\n",
    "data"
   ]
  },
  {
   "cell_type": "code",
   "execution_count": 14,
   "id": "5e97f254",
   "metadata": {},
   "outputs": [
    {
     "name": "stderr",
     "output_type": "stream",
     "text": [
      "[nltk_data] Downloading package stopwords to\n",
      "[nltk_data]     C:\\Users\\madba\\AppData\\Roaming\\nltk_data...\n",
      "[nltk_data]   Package stopwords is already up-to-date!\n"
     ]
    },
    {
     "data": {
      "text/plain": [
       "True"
      ]
     },
     "execution_count": 14,
     "metadata": {},
     "output_type": "execute_result"
    }
   ],
   "source": [
    "nltk.download('stopwords')\n"
   ]
  },
  {
   "cell_type": "code",
   "execution_count": 15,
   "id": "8b8f6064",
   "metadata": {},
   "outputs": [],
   "source": [
    "stopwords = nltk.corpus.stopwords.words('english')\n"
   ]
  },
  {
   "cell_type": "code",
   "execution_count": 16,
   "id": "7f142e23",
   "metadata": {},
   "outputs": [
    {
     "name": "stdout",
     "output_type": "stream",
     "text": [
      "['i', 'me', 'my', 'myself', 'we', 'our', 'ours', 'ourselves', 'you', \"you're\", \"you've\", \"you'll\", \"you'd\", 'your', 'yours', 'yourself', 'yourselves', 'he', 'him', 'his', 'himself', 'she', \"she's\", 'her', 'hers', 'herself', 'it', \"it's\", 'its', 'itself', 'they', 'them', 'their', 'theirs', 'themselves', 'what', 'which', 'who', 'whom', 'this', 'that', \"that'll\", 'these', 'those', 'am', 'is', 'are', 'was', 'were', 'be', 'been', 'being', 'have', 'has', 'had', 'having', 'do', 'does', 'did', 'doing', 'a', 'an', 'the', 'and', 'but', 'if', 'or', 'because', 'as', 'until', 'while', 'of', 'at', 'by', 'for', 'with', 'about', 'against', 'between', 'into', 'through', 'during', 'before', 'after', 'above', 'below', 'to', 'from', 'up', 'down', 'in', 'out', 'on', 'off', 'over', 'under', 'again', 'further', 'then', 'once', 'here', 'there', 'when', 'where', 'why', 'how', 'all', 'any', 'both', 'each', 'few', 'more', 'most', 'other', 'some', 'such', 'no', 'nor', 'not', 'only', 'own', 'same', 'so', 'than', 'too', 'very', 's', 't', 'can', 'will', 'just', 'don', \"don't\", 'should', \"should've\", 'now', 'd', 'll', 'm', 'o', 're', 've', 'y', 'ain', 'aren', \"aren't\", 'couldn', \"couldn't\", 'didn', \"didn't\", 'doesn', \"doesn't\", 'hadn', \"hadn't\", 'hasn', \"hasn't\", 'haven', \"haven't\", 'isn', \"isn't\", 'ma', 'mightn', \"mightn't\", 'mustn', \"mustn't\", 'needn', \"needn't\", 'shan', \"shan't\", 'shouldn', \"shouldn't\", 'wasn', \"wasn't\", 'weren', \"weren't\", 'won', \"won't\", 'wouldn', \"wouldn't\"]\n"
     ]
    }
   ],
   "source": [
    "print(stopwords)"
   ]
  },
  {
   "cell_type": "code",
   "execution_count": 17,
   "id": "4484b126",
   "metadata": {},
   "outputs": [],
   "source": [
    "def remove_stopwords(text):\n",
    "    output = []\n",
    "    for i in text:\n",
    "        if i not in stopwords:\n",
    "            output.append(i)\n",
    "    return output"
   ]
  },
  {
   "cell_type": "code",
   "execution_count": 18,
   "id": "1c9edde0",
   "metadata": {},
   "outputs": [
    {
     "data": {
      "text/html": [
       "<div>\n",
       "<style scoped>\n",
       "    .dataframe tbody tr th:only-of-type {\n",
       "        vertical-align: middle;\n",
       "    }\n",
       "\n",
       "    .dataframe tbody tr th {\n",
       "        vertical-align: top;\n",
       "    }\n",
       "\n",
       "    .dataframe thead th {\n",
       "        text-align: right;\n",
       "    }\n",
       "</style>\n",
       "<table border=\"1\" class=\"dataframe\">\n",
       "  <thead>\n",
       "    <tr style=\"text-align: right;\">\n",
       "      <th></th>\n",
       "      <th>Review</th>\n",
       "      <th>clean_punctuation</th>\n",
       "      <th>clean_lower</th>\n",
       "      <th>clean_number</th>\n",
       "      <th>token_data</th>\n",
       "      <th>clean_xstopwords</th>\n",
       "    </tr>\n",
       "  </thead>\n",
       "  <tbody>\n",
       "    <tr>\n",
       "      <th>0</th>\n",
       "      <td>I like this books very much!!! It is VERY INTE...</td>\n",
       "      <td>I like this books very much It is VERY INTERES...</td>\n",
       "      <td>i like this books very much it is very interes...</td>\n",
       "      <td>i like this books very much it is very interes...</td>\n",
       "      <td>[i, like, this, books, very, much, it, is, ver...</td>\n",
       "      <td>[like, books, much, interesting]</td>\n",
       "    </tr>\n",
       "    <tr>\n",
       "      <th>1</th>\n",
       "      <td>Do not like this book. so boring 2. Too length...</td>\n",
       "      <td>Do not like this book so boring 2 Too lengthy</td>\n",
       "      <td>do not like this book so boring 2 too lengthy</td>\n",
       "      <td>do not like this book so boring  too lengthy</td>\n",
       "      <td>[do, not, like, this, book, so, boring, too, l...</td>\n",
       "      <td>[like, book, boring, lengthy]</td>\n",
       "    </tr>\n",
       "  </tbody>\n",
       "</table>\n",
       "</div>"
      ],
      "text/plain": [
       "                                              Review  \\\n",
       "0  I like this books very much!!! It is VERY INTE...   \n",
       "1  Do not like this book. so boring 2. Too length...   \n",
       "\n",
       "                                   clean_punctuation  \\\n",
       "0  I like this books very much It is VERY INTERES...   \n",
       "1     Do not like this book so boring 2 Too lengthy    \n",
       "\n",
       "                                         clean_lower  \\\n",
       "0  i like this books very much it is very interes...   \n",
       "1     do not like this book so boring 2 too lengthy    \n",
       "\n",
       "                                        clean_number  \\\n",
       "0  i like this books very much it is very interes...   \n",
       "1      do not like this book so boring  too lengthy    \n",
       "\n",
       "                                          token_data  \\\n",
       "0  [i, like, this, books, very, much, it, is, ver...   \n",
       "1  [do, not, like, this, book, so, boring, too, l...   \n",
       "\n",
       "                   clean_xstopwords  \n",
       "0  [like, books, much, interesting]  \n",
       "1     [like, book, boring, lengthy]  "
      ]
     },
     "execution_count": 18,
     "metadata": {},
     "output_type": "execute_result"
    }
   ],
   "source": [
    "data['clean_xstopwords'] = data['token_data'].apply(remove_stopwords)\n",
    "data"
   ]
  },
  {
   "cell_type": "code",
   "execution_count": null,
   "id": "4256c8a0",
   "metadata": {},
   "outputs": [],
   "source": [
    "from nltk.stem.porter import PorterStemmer"
   ]
  }
 ],
 "metadata": {
  "kernelspec": {
   "display_name": "Python 3 (ipykernel)",
   "language": "python",
   "name": "python3"
  },
  "language_info": {
   "codemirror_mode": {
    "name": "ipython",
    "version": 3
   },
   "file_extension": ".py",
   "mimetype": "text/x-python",
   "name": "python",
   "nbconvert_exporter": "python",
   "pygments_lexer": "ipython3",
   "version": "3.11.5"
  }
 },
 "nbformat": 4,
 "nbformat_minor": 5
}
